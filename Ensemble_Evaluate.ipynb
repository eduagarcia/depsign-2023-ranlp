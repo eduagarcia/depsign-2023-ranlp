{
 "cells": [
  {
   "cell_type": "code",
   "execution_count": 4,
   "id": "164ecf93",
   "metadata": {},
   "outputs": [],
   "source": [
    "import pandas as pd\n",
    "import unicodedata"
   ]
  },
  {
   "cell_type": "code",
   "execution_count": 5,
   "id": "76f293d6",
   "metadata": {},
   "outputs": [],
   "source": [
    "dev_df = pd.read_csv('../data/dev_data.csv', encoding=\"utf8\")\n",
    "test_df = pd.read_csv('../data/test_data_with_label.csv', encoding=\"utf8\")"
   ]
  },
  {
   "cell_type": "code",
   "execution_count": 6,
   "id": "b5f093b9",
   "metadata": {},
   "outputs": [],
   "source": [
    "import unicodedata\n",
    "def reencode_and_normalize(text):\n",
    "    transl_table = dict([(ord(x), ord(y)) for x,y in zip( u\"‘’´“”–-\",  u\"'''\\\"\\\"--\")])\n",
    "    fixed_text = text.replace('鈥�', '\"').replace('鉂�', '').encode('gb18030').decode('utf8')\n",
    "    fixed_text = unicodedata.normalize(\"NFKD\", fixed_text)\n",
    "    fixed_text = fixed_text.translate(transl_table)\n",
    "    return fixed_text\n",
    "\n",
    "test_df['Text data'] = test_df['Text data'].apply(reencode_and_normalize)"
   ]
  },
  {
   "cell_type": "code",
   "execution_count": 7,
   "id": "c7a258dd",
   "metadata": {},
   "outputs": [],
   "source": [
    "test_df['Text data'] = test_df['Text data'].str.strip()\n",
    "dev_df['text data'] = dev_df['text data'].str.strip()"
   ]
  },
  {
   "cell_type": "code",
   "execution_count": 8,
   "id": "915b8bd7",
   "metadata": {},
   "outputs": [],
   "source": [
    "test_texts = list(test_df['Text data'].values)\n",
    "dev_texts = list(dev_df['text data'].values)"
   ]
  },
  {
   "cell_type": "code",
   "execution_count": 9,
   "id": "084791c4",
   "metadata": {},
   "outputs": [],
   "source": [
    "best_models = {\n",
    "    'roberta-large-v3-maxlen': 'hypsearch/output/roberta-large-v3-maxlen/trial_4',\n",
    "    'roberta-mental-health-v3-maxlen': 'hypsearch/output/roberta-mental-health-v3-maxlen/trial_22',\n",
    "    'deberta-large-v3-maxlen': 'hypsearch/output/deberta-large-v3-maxlen/trial_25',\n",
    "    'deberta-mental-health-v3': 'hypsearch/output/deberta-mental-health-v3_2/trial_57',\n",
    "    \n",
    "    'roberta-mental-health-headtail-0': 'hypsearch/output/roberta-mental-health-v5-tail/trial_2',\n",
    "    'roberta-mental-health-headtail-25': 'hypsearch/output/roberta-mental-health-v4-headtail/trial_8',\n",
    "    'roberta-mental-health-headtail-50': 'hypsearch/output/roberta-mental-health-v4-headtail/trial_21',\n",
    "    'roberta-mental-health-headtail-75': 'hypsearch/output/roberta-mental-health-v4-headtail/trial_2',\n",
    "    \n",
    "    'oll-roberta-mental-health-v2-fixloss': 'hypsearch/output/oll-roberta-mental-health-v2-fixloss/trial_25',\n",
    "    'roberta-mental-health-v6-labelsmoothing': 'hypsearch/output/roberta-mental-health-v6-labelsmoothing/trial_49',\n",
    "    'regression-v2': 'hypsearch/output/regression-v2/trial_50',\n",
    "    'corn': 'hypsearch/output/corn-roberta-mental-health-v2/trial_14'\n",
    "}"
   ]
  },
  {
   "cell_type": "code",
   "execution_count": 10,
   "id": "4effeb0e",
   "metadata": {},
   "outputs": [],
   "source": [
    "id2label = {\n",
    "    0:\"not depression\",\n",
    "    1:\"moderate\",\n",
    "    2:\"severe\"\n",
    "}\n",
    "\n",
    "label2id = {v: k for k, v in id2label.items()}"
   ]
  },
  {
   "cell_type": "code",
   "execution_count": 11,
   "id": "dd618363",
   "metadata": {},
   "outputs": [],
   "source": [
    "from transformers import AutoModelForSequenceClassification, AutoTokenizer\n",
    "from hypsearch.coral import CoralRobertaForSequenceClassification\n",
    "import torch\n",
    "import os\n",
    "import json\n",
    "\n",
    "def load_model(model_path):\n",
    "    with open(os.path.join(model_path, 'config.json'), 'r') as f:\n",
    "        config = json.load(f)\n",
    "    if 'class_regression' in config and config['class_regression']:\n",
    "        model = AutoModelForSequenceClassification.from_pretrained(model_path, num_labels=1)\n",
    "    elif ('corn_model' in config or 'coral_model' in config) and (config['corn_model'] or config['coral_model']):\n",
    "        model = CoralRobertaForSequenceClassification.from_pretrained(model_path)\n",
    "    else:\n",
    "        model = AutoModelForSequenceClassification.from_pretrained(model_path)\n",
    "    tokenizer = AutoTokenizer.from_pretrained(model_path)\n",
    "    return model, tokenizer\n",
    "\n",
    "#model, tokenizer = load_model('hypsearch/output/roberta-large-v3-maxlen/trial_4')\n",
    "#model = model.to(device)"
   ]
  },
  {
   "cell_type": "code",
   "execution_count": 12,
   "id": "67d660ef",
   "metadata": {},
   "outputs": [],
   "source": [
    "import torch.nn.functional as F\n",
    "from hypsearch.coral import proba_to_label_np, corn_label_from_logits_np\n",
    "import numpy as np\n",
    "import gc\n",
    "\n",
    "def predict(texts, model, tokenizer, batchsize=64, device=torch.device('cpu'), max_seq_length=512):\n",
    "    all_logits = []\n",
    "    for i in range(0, len(texts), batchsize):\n",
    "        #print(len(all_logits), len(texts)//batchsize)\n",
    "        batch = texts[i:i+batchsize]\n",
    "        \n",
    "        max_head_limit = None\n",
    "        if hasattr(model.config, 'max_head_limit'):\n",
    "            max_head_limit = model.config.max_head_limit\n",
    "            \n",
    "        if max_head_limit is None:\n",
    "            inputs = tokenizer(batch, truncation=True, padding=True, return_tensors='pt', max_length=max_seq_length).to(device)\n",
    "        else:\n",
    "            head_limit = max_head_limit\n",
    "            if isinstance(head_limit, float):\n",
    "                head_limit = round(max_seq_length*head_limit)\n",
    "                if head_limit == 0:\n",
    "                    head_limit = 1\n",
    "            #print('head_limit', head_limit)\n",
    "            inputs = {\n",
    "                'input_ids': [],\n",
    "                'attention_mask': []\n",
    "            }\n",
    "            tokenized_dataset = tokenizer(batch, padding=True, truncation=False)\n",
    "            token_to_find = tokenizer.sep_token_id\n",
    "            for tokens, attention_mask in zip(tokenized_dataset['input_ids'], tokenized_dataset['attention_mask']):\n",
    "                size = tokens.index(token_to_find) + 1\n",
    "                if size > max_seq_length:\n",
    "                    inputs['input_ids'].append(tokens[:head_limit]+ tokens[size-max_seq_length+head_limit:size])\n",
    "                    inputs['attention_mask'].append(attention_mask[:head_limit]+ attention_mask[size-max_seq_length+head_limit:size])\n",
    "                else:\n",
    "                    inputs['input_ids'].append(tokens[:max_seq_length])\n",
    "                    inputs['attention_mask'].append(attention_mask[:max_seq_length])\n",
    "            inputs['input_ids'] = torch.tensor(inputs['input_ids'], dtype=torch.long, device=device)\n",
    "            inputs['attention_mask'] = torch.tensor(inputs['attention_mask'], dtype=torch.long, device=device)\n",
    "\n",
    "        with torch.no_grad():\n",
    "            outputs = model(**inputs)\n",
    "\n",
    "        all_logits.append(outputs.logits.detach().cpu())\n",
    "        \n",
    "        del inputs\n",
    "        del outputs\n",
    "    \n",
    "    all_logits = torch.cat(all_logits)\n",
    "    softmax = F.softmax(all_logits, dim=-1).numpy()\n",
    "    all_logits = all_logits.numpy()\n",
    "    \n",
    "    if (hasattr(model.config, 'class_regression') and model.config.class_regression) or (hasattr(model.config, 'problem_type') and model.config.problem_type == \"regression\"):\n",
    "        soft_preds = np.squeeze(all_logits)\n",
    "        preds = np.clip(np.round(soft_preds).astype(int), 0, len(label2id)-1) \n",
    "        logits_output = np.eye(len(label2id))[preds]\n",
    "        softmax_output = logits_output.copy()\n",
    "    elif (hasattr(model.config, 'corn_model') and model.config.corn_model):\n",
    "        preds = corn_label_from_logits_np(all_logits)\n",
    "        soft_preds = preds.copy()\n",
    "        logits_output = np.eye(len(label2id))[preds]\n",
    "        softmax_output = logits_output.copy()\n",
    "    elif (hasattr(model.config, 'coral_model') and model.config.coral_model):\n",
    "        return None\n",
    "    else:\n",
    "        remap_labels = []\n",
    "        for label in label2id:\n",
    "            remap_labels.append(model.config.label2id[label])\n",
    "        logits_output = all_logits[:, remap_labels].copy()\n",
    "        softmax_output = softmax[:, remap_labels].copy()\n",
    "        preds = softmax_output.argmax(-1)\n",
    "        \n",
    "        #soft preds\n",
    "        #[0.7, 0.1, 0.2] -> (0 + 0.1 + 0.2) -> 0.3\n",
    "        #[0.1, 0.7, 0.2] -> (1 - 0.1 + 0.2) -> 1.1\n",
    "        #[0.1, 0.2, 0.7] -> (2 - 0.1 - 0.2) -> 1.7\n",
    "        \n",
    "        #[0.3, 0.3, 0.4] -> (2 - 0.3 - 0.3) -> 1.4 .round() -> 1 #error\n",
    "        #[0.3333, 0.333, 0.33..4] -> lower bound\n",
    "        #[0.49, 0.0, 0.51] -> (2 - 0.49 - 0.0) -> 1.51 .round() -> 2\n",
    "        dist_mask = np.array([\n",
    "            [0, 1, 1],\n",
    "            [-1, 0, 1],\n",
    "            [-1, -1, 0]\n",
    "        ])\n",
    "\n",
    "        soft_preds = preds + np.clip(np.sum(dist_mask[preds] * softmax_output, axis=-1), -0.499, 0.499)\n",
    "    \n",
    "    gc.collect()\n",
    "    torch.cuda.empty_cache()\n",
    "    \n",
    "    return preds, soft_preds, softmax_output, logits_output"
   ]
  },
  {
   "cell_type": "code",
   "execution_count": 13,
   "id": "dfb212f8",
   "metadata": {},
   "outputs": [
    {
     "name": "stdout",
     "output_type": "stream",
     "text": [
      "roberta-large-v3-maxlen\n"
     ]
    },
    {
     "name": "stderr",
     "output_type": "stream",
     "text": [
      "/opt/conda/lib/python3.8/site-packages/torch/nn/modules/module.py:1383: UserWarning: positional arguments and argument \"destination\" are deprecated. nn.Module.state_dict will not accept them in the future. Refer to https://pytorch.org/docs/master/generated/torch.nn.Module.html#torch.nn.Module.state_dict for details.\n",
      "  warnings.warn(\n"
     ]
    },
    {
     "name": "stdout",
     "output_type": "stream",
     "text": [
      "roberta-mental-health-v3-maxlen\n",
      "deberta-large-v3-maxlen\n",
      "deberta-mental-health-v3\n",
      "roberta-mental-health-headtail-0\n"
     ]
    },
    {
     "name": "stderr",
     "output_type": "stream",
     "text": [
      "Token indices sequence length is longer than the specified maximum sequence length for this model (1043 > 512). Running this sequence through the model will result in indexing errors\n"
     ]
    },
    {
     "name": "stdout",
     "output_type": "stream",
     "text": [
      "roberta-mental-health-headtail-25\n"
     ]
    },
    {
     "name": "stderr",
     "output_type": "stream",
     "text": [
      "Token indices sequence length is longer than the specified maximum sequence length for this model (1043 > 512). Running this sequence through the model will result in indexing errors\n"
     ]
    },
    {
     "name": "stdout",
     "output_type": "stream",
     "text": [
      "roberta-mental-health-headtail-50\n"
     ]
    },
    {
     "name": "stderr",
     "output_type": "stream",
     "text": [
      "Token indices sequence length is longer than the specified maximum sequence length for this model (1043 > 512). Running this sequence through the model will result in indexing errors\n"
     ]
    },
    {
     "name": "stdout",
     "output_type": "stream",
     "text": [
      "roberta-mental-health-headtail-75\n"
     ]
    },
    {
     "name": "stderr",
     "output_type": "stream",
     "text": [
      "Token indices sequence length is longer than the specified maximum sequence length for this model (1043 > 512). Running this sequence through the model will result in indexing errors\n"
     ]
    },
    {
     "name": "stdout",
     "output_type": "stream",
     "text": [
      "oll-roberta-mental-health-v2-fixloss\n"
     ]
    },
    {
     "name": "stderr",
     "output_type": "stream",
     "text": [
      "Token indices sequence length is longer than the specified maximum sequence length for this model (1043 > 512). Running this sequence through the model will result in indexing errors\n"
     ]
    },
    {
     "name": "stdout",
     "output_type": "stream",
     "text": [
      "roberta-mental-health-v6-labelsmoothing\n"
     ]
    },
    {
     "name": "stderr",
     "output_type": "stream",
     "text": [
      "Token indices sequence length is longer than the specified maximum sequence length for this model (1043 > 512). Running this sequence through the model will result in indexing errors\n"
     ]
    },
    {
     "name": "stdout",
     "output_type": "stream",
     "text": [
      "regression-v2\n"
     ]
    },
    {
     "name": "stderr",
     "output_type": "stream",
     "text": [
      "Token indices sequence length is longer than the specified maximum sequence length for this model (1043 > 512). Running this sequence through the model will result in indexing errors\n"
     ]
    },
    {
     "name": "stdout",
     "output_type": "stream",
     "text": [
      "corn\n"
     ]
    },
    {
     "name": "stderr",
     "output_type": "stream",
     "text": [
      "Token indices sequence length is longer than the specified maximum sequence length for this model (1043 > 512). Running this sequence through the model will result in indexing errors\n"
     ]
    }
   ],
   "source": [
    "device = torch.device('cuda:7')\n",
    "outputs = []\n",
    "for model_name in best_models:\n",
    "    print(model_name)\n",
    "    model_path = best_models[model_name]\n",
    "    \n",
    "    model, tokenizer = load_model(model_path)\n",
    "    model = model.to(device)\n",
    "    model_outputs = predict(dev_texts, model, tokenizer, batchsize=128, device=device)\n",
    "    outputs.append(model_outputs)\n",
    "    \n",
    "    del model\n",
    "    gc.collect()\n",
    "    torch.cuda.empty_cache()"
   ]
  },
  {
   "cell_type": "code",
   "execution_count": 14,
   "id": "d77da237",
   "metadata": {},
   "outputs": [],
   "source": [
    "import pickle\n",
    "with open('ensemble_outputs.pickle', 'wb') as f:\n",
    "    pickle.dump(outputs, f)"
   ]
  },
  {
   "cell_type": "code",
   "execution_count": 15,
   "id": "32097ee7",
   "metadata": {},
   "outputs": [],
   "source": [
    "gc.collect()\n",
    "torch.cuda.empty_cache()"
   ]
  },
  {
   "cell_type": "code",
   "execution_count": 16,
   "id": "3ec8e6ac",
   "metadata": {},
   "outputs": [],
   "source": [
    "y_true = dev_df['label'].map(label2id).values"
   ]
  },
  {
   "cell_type": "code",
   "execution_count": 17,
   "id": "d1b60428",
   "metadata": {},
   "outputs": [],
   "source": [
    "from sklearn.metrics import f1_score\n",
    "import numpy as np\n",
    "from scipy import stats\n",
    "\n",
    "preds = np.asarray([o[0] for o in outputs])\n",
    "soft_preds = np.asarray([o[1] for o in outputs])\n",
    "softmax = np.asarray([o[2] for o in outputs])\n",
    "logits = np.asarray([o[3] for o in outputs])"
   ]
  },
  {
   "cell_type": "code",
   "execution_count": 18,
   "id": "c4ef6b5b",
   "metadata": {},
   "outputs": [],
   "source": [
    "model_scores = []\n",
    "for y_pred in preds:\n",
    "    model_scores.append(f1_score(y_true, y_pred, average=\"macro\"))\n",
    "model_scores = np.asarray(model_scores)"
   ]
  },
  {
   "cell_type": "code",
   "execution_count": 19,
   "id": "4f76673f",
   "metadata": {},
   "outputs": [],
   "source": [
    "def ordered_mean(preds):\n",
    "    #map_ordered = {0:1, 1:0, 2:2}\n",
    "    #unmap_ordered = {1:0, 0:1, 2:2}\n",
    "    \n",
    "    pred_ordered = preds#np.vectorize(lambda x: map_ordered[x])(preds)\n",
    "    pred_ordered_mean = np.mean(pred_ordered, axis=0).round()\n",
    "    #pred_ordered_mean_unmap = np.vectorize(lambda x: unmap_ordered[x])(pred_ordered_mean)\n",
    "    return pred_ordered\n",
    "\n",
    "def softmax_to_scalar_mean(softmax):\n",
    "    #[0.7, 0.1, 0.2] -> (0 + 0.1 + 0.2) -> 0.3\n",
    "    #[0.1, 0.7, 0.2] -> (1 - 0.1 + 0.2) -> 1.1\n",
    "    #[0.1, 0.2, 0.7] -> (2 - 0.1 - 0.2) -> 1.7\n",
    "    \n",
    "    #[0.49, 0.0, 0.51] -> (2 - 0.49 - 0.0) -> 1.51 .round() -> 2\n",
    "    #map_ordered = [1,0,2]\n",
    "    #unmap_ordered = {1:0, 0:1, 2:2}\n",
    "    dist_mask = np.array([\n",
    "        [0, 1, 1],\n",
    "        [-1, 0, 1],\n",
    "        [-1, -1, 0]\n",
    "    ])\n",
    "    \n",
    "    #map_ordered = [1,0,2]\n",
    "    softmax_ordered = softmax#[:, :, map_ordered]\n",
    "    preds_ordered = softmax_ordered.argmax(-1)\n",
    "    scalar_labels = preds_ordered + np.sum(dist_mask[preds_ordered] * softmax_ordered, axis=-1)\n",
    "    scalar_labels_mean = np.mean(scalar_labels, axis=0).round()\n",
    "    #scalar_labels_mean_unmap = np.vectorize(lambda x: unmap_ordered[x])(scalar_labels_mean)\n",
    "    return scalar_labels_mean#_unmap"
   ]
  },
  {
   "cell_type": "code",
   "execution_count": 20,
   "id": "3c6f9e66",
   "metadata": {},
   "outputs": [
    {
     "name": "stdout",
     "output_type": "stream",
     "text": [
      "1\n",
      "2\n",
      "3\n",
      "4\n",
      "5\n",
      "6\n",
      "7\n",
      "8\n",
      "9\n",
      "10\n",
      "11\n",
      "12\n"
     ]
    }
   ],
   "source": [
    "score_sort = np.flip(model_scores.argsort())\n",
    "all_scores = []\n",
    "for i in range(len(score_sort)):\n",
    "    i = i+1\n",
    "    print(i)\n",
    "    temp_results = {\n",
    "        \"softmax_mean_preds\": np.mean(softmax[score_sort][:i], axis=0).argmax(-1),\n",
    "        \"softmax_max_preds\": np.max(softmax[score_sort][:i], axis=0).argmax(-1),\n",
    "        \"logits_mean_preds\": np.mean(logits[score_sort][:i], axis=0).argmax(-1),\n",
    "        \"logits_max_preds\": np.max(logits[score_sort][:i], axis=0).argmax(-1),\n",
    "        \"preds_mode\": stats.mode(preds[score_sort][:i], axis=0).mode[0],\n",
    "        \"preds_ordered_mean\": np.mean(preds[score_sort][:i], axis=0).round(),\n",
    "        \"softmax_to_scalar_mean\": np.mean(soft_preds[score_sort][:i], axis=0).round()\n",
    "    }\n",
    "    i_scores = {'i': i}\n",
    "    for r in temp_results:\n",
    "        i_scores[r] = f1_score(y_true, temp_results[r], average=\"macro\")\n",
    "    \n",
    "    all_scores.append(i_scores)"
   ]
  },
  {
   "cell_type": "code",
   "execution_count": 21,
   "id": "7dec594b",
   "metadata": {},
   "outputs": [
    {
     "data": {
      "text/plain": [
       "0"
      ]
     },
     "execution_count": 21,
     "metadata": {},
     "output_type": "execute_result"
    }
   ],
   "source": [
    "(preds[score_sort[0]] != soft_preds[score_sort[0]].round()).sum()"
   ]
  },
  {
   "cell_type": "code",
   "execution_count": 22,
   "id": "cfcb1dd1",
   "metadata": {},
   "outputs": [
    {
     "data": {
      "text/plain": [
       "array([], dtype=int64)"
      ]
     },
     "execution_count": 22,
     "metadata": {},
     "output_type": "execute_result"
    }
   ],
   "source": [
    "preds[score_sort[0]][(preds[score_sort[0]] != soft_preds[score_sort[0]].round())]"
   ]
  },
  {
   "cell_type": "code",
   "execution_count": 23,
   "id": "cd5cac3e",
   "metadata": {},
   "outputs": [
    {
     "data": {
      "text/plain": [
       "array([], dtype=float64)"
      ]
     },
     "execution_count": 23,
     "metadata": {},
     "output_type": "execute_result"
    }
   ],
   "source": [
    "soft_preds[score_sort[0]][(preds[score_sort[0]] != soft_preds[score_sort[0]].round())]"
   ]
  },
  {
   "cell_type": "code",
   "execution_count": 24,
   "id": "bcffbc11",
   "metadata": {},
   "outputs": [
    {
     "data": {
      "text/plain": [
       "i                         12.000000\n",
       "preds_ordered_mean         0.616459\n",
       "preds_mode                 0.613477\n",
       "softmax_to_scalar_mean     0.605563\n",
       "softmax_mean_preds         0.604406\n",
       "logits_mean_preds          0.602459\n",
       "logits_max_preds           0.595776\n",
       "softmax_max_preds          0.593982\n",
       "dtype: float64"
      ]
     },
     "execution_count": 24,
     "metadata": {},
     "output_type": "execute_result"
    }
   ],
   "source": [
    "import pandas as pd\n",
    "df_scores = pd.DataFrame(all_scores)\n",
    "df_scores.max().sort_values(ascending=False)"
   ]
  },
  {
   "cell_type": "code",
   "execution_count": 25,
   "id": "8473fcf0",
   "metadata": {},
   "outputs": [
    {
     "data": {
      "text/plain": [
       "i                         6.500000\n",
       "preds_ordered_mean        0.605710\n",
       "preds_mode                0.603565\n",
       "softmax_to_scalar_mean    0.601833\n",
       "softmax_mean_preds        0.598777\n",
       "logits_mean_preds         0.597964\n",
       "softmax_max_preds         0.589766\n",
       "logits_max_preds          0.584376\n",
       "dtype: float64"
      ]
     },
     "execution_count": 25,
     "metadata": {},
     "output_type": "execute_result"
    }
   ],
   "source": [
    "df_scores.mean().sort_values(ascending=False)"
   ]
  },
  {
   "cell_type": "code",
   "execution_count": 26,
   "id": "60c6589f",
   "metadata": {},
   "outputs": [
    {
     "data": {
      "text/html": [
       "<div>\n",
       "<style scoped>\n",
       "    .dataframe tbody tr th:only-of-type {\n",
       "        vertical-align: middle;\n",
       "    }\n",
       "\n",
       "    .dataframe tbody tr th {\n",
       "        vertical-align: top;\n",
       "    }\n",
       "\n",
       "    .dataframe thead th {\n",
       "        text-align: right;\n",
       "    }\n",
       "</style>\n",
       "<table border=\"1\" class=\"dataframe\">\n",
       "  <thead>\n",
       "    <tr style=\"text-align: right;\">\n",
       "      <th></th>\n",
       "      <th>i</th>\n",
       "      <th>softmax_mean_preds</th>\n",
       "      <th>softmax_max_preds</th>\n",
       "      <th>logits_mean_preds</th>\n",
       "      <th>logits_max_preds</th>\n",
       "      <th>preds_mode</th>\n",
       "      <th>preds_ordered_mean</th>\n",
       "      <th>softmax_to_scalar_mean</th>\n",
       "    </tr>\n",
       "  </thead>\n",
       "  <tbody>\n",
       "    <tr>\n",
       "      <th>0</th>\n",
       "      <td>1</td>\n",
       "      <td>0.593982</td>\n",
       "      <td>0.593982</td>\n",
       "      <td>0.593982</td>\n",
       "      <td>0.593982</td>\n",
       "      <td>0.593982</td>\n",
       "      <td>0.593982</td>\n",
       "      <td>0.593982</td>\n",
       "    </tr>\n",
       "    <tr>\n",
       "      <th>1</th>\n",
       "      <td>2</td>\n",
       "      <td>0.592261</td>\n",
       "      <td>0.592261</td>\n",
       "      <td>0.591864</td>\n",
       "      <td>0.595776</td>\n",
       "      <td>0.598089</td>\n",
       "      <td>0.591414</td>\n",
       "      <td>0.596315</td>\n",
       "    </tr>\n",
       "    <tr>\n",
       "      <th>2</th>\n",
       "      <td>3</td>\n",
       "      <td>0.604406</td>\n",
       "      <td>0.592261</td>\n",
       "      <td>0.595936</td>\n",
       "      <td>0.584727</td>\n",
       "      <td>0.609223</td>\n",
       "      <td>0.608227</td>\n",
       "      <td>0.598572</td>\n",
       "    </tr>\n",
       "    <tr>\n",
       "      <th>3</th>\n",
       "      <td>4</td>\n",
       "      <td>0.601786</td>\n",
       "      <td>0.592261</td>\n",
       "      <td>0.596753</td>\n",
       "      <td>0.585579</td>\n",
       "      <td>0.606778</td>\n",
       "      <td>0.609412</td>\n",
       "      <td>0.605563</td>\n",
       "    </tr>\n",
       "    <tr>\n",
       "      <th>4</th>\n",
       "      <td>5</td>\n",
       "      <td>0.601783</td>\n",
       "      <td>0.592261</td>\n",
       "      <td>0.599133</td>\n",
       "      <td>0.584756</td>\n",
       "      <td>0.613477</td>\n",
       "      <td>0.616459</td>\n",
       "      <td>0.605318</td>\n",
       "    </tr>\n",
       "    <tr>\n",
       "      <th>5</th>\n",
       "      <td>6</td>\n",
       "      <td>0.600588</td>\n",
       "      <td>0.592261</td>\n",
       "      <td>0.602459</td>\n",
       "      <td>0.586288</td>\n",
       "      <td>0.605748</td>\n",
       "      <td>0.610771</td>\n",
       "      <td>0.604332</td>\n",
       "    </tr>\n",
       "    <tr>\n",
       "      <th>6</th>\n",
       "      <td>7</td>\n",
       "      <td>0.600801</td>\n",
       "      <td>0.592261</td>\n",
       "      <td>0.599964</td>\n",
       "      <td>0.583080</td>\n",
       "      <td>0.606795</td>\n",
       "      <td>0.609272</td>\n",
       "      <td>0.603021</td>\n",
       "    </tr>\n",
       "    <tr>\n",
       "      <th>7</th>\n",
       "      <td>8</td>\n",
       "      <td>0.600043</td>\n",
       "      <td>0.585928</td>\n",
       "      <td>0.601495</td>\n",
       "      <td>0.583393</td>\n",
       "      <td>0.601148</td>\n",
       "      <td>0.607398</td>\n",
       "      <td>0.604083</td>\n",
       "    </tr>\n",
       "    <tr>\n",
       "      <th>8</th>\n",
       "      <td>9</td>\n",
       "      <td>0.599157</td>\n",
       "      <td>0.585928</td>\n",
       "      <td>0.599088</td>\n",
       "      <td>0.582382</td>\n",
       "      <td>0.603875</td>\n",
       "      <td>0.608387</td>\n",
       "      <td>0.603467</td>\n",
       "    </tr>\n",
       "    <tr>\n",
       "      <th>9</th>\n",
       "      <td>10</td>\n",
       "      <td>0.599809</td>\n",
       "      <td>0.585928</td>\n",
       "      <td>0.599894</td>\n",
       "      <td>0.579655</td>\n",
       "      <td>0.600632</td>\n",
       "      <td>0.607880</td>\n",
       "      <td>0.602363</td>\n",
       "    </tr>\n",
       "    <tr>\n",
       "      <th>10</th>\n",
       "      <td>11</td>\n",
       "      <td>0.594159</td>\n",
       "      <td>0.585928</td>\n",
       "      <td>0.599448</td>\n",
       "      <td>0.578384</td>\n",
       "      <td>0.601047</td>\n",
       "      <td>0.603914</td>\n",
       "      <td>0.602278</td>\n",
       "    </tr>\n",
       "    <tr>\n",
       "      <th>11</th>\n",
       "      <td>12</td>\n",
       "      <td>0.596544</td>\n",
       "      <td>0.585928</td>\n",
       "      <td>0.595552</td>\n",
       "      <td>0.574507</td>\n",
       "      <td>0.601982</td>\n",
       "      <td>0.601400</td>\n",
       "      <td>0.602698</td>\n",
       "    </tr>\n",
       "  </tbody>\n",
       "</table>\n",
       "</div>"
      ],
      "text/plain": [
       "     i  softmax_mean_preds  softmax_max_preds  logits_mean_preds  \\\n",
       "0    1            0.593982           0.593982           0.593982   \n",
       "1    2            0.592261           0.592261           0.591864   \n",
       "2    3            0.604406           0.592261           0.595936   \n",
       "3    4            0.601786           0.592261           0.596753   \n",
       "4    5            0.601783           0.592261           0.599133   \n",
       "5    6            0.600588           0.592261           0.602459   \n",
       "6    7            0.600801           0.592261           0.599964   \n",
       "7    8            0.600043           0.585928           0.601495   \n",
       "8    9            0.599157           0.585928           0.599088   \n",
       "9   10            0.599809           0.585928           0.599894   \n",
       "10  11            0.594159           0.585928           0.599448   \n",
       "11  12            0.596544           0.585928           0.595552   \n",
       "\n",
       "    logits_max_preds  preds_mode  preds_ordered_mean  softmax_to_scalar_mean  \n",
       "0           0.593982    0.593982            0.593982                0.593982  \n",
       "1           0.595776    0.598089            0.591414                0.596315  \n",
       "2           0.584727    0.609223            0.608227                0.598572  \n",
       "3           0.585579    0.606778            0.609412                0.605563  \n",
       "4           0.584756    0.613477            0.616459                0.605318  \n",
       "5           0.586288    0.605748            0.610771                0.604332  \n",
       "6           0.583080    0.606795            0.609272                0.603021  \n",
       "7           0.583393    0.601148            0.607398                0.604083  \n",
       "8           0.582382    0.603875            0.608387                0.603467  \n",
       "9           0.579655    0.600632            0.607880                0.602363  \n",
       "10          0.578384    0.601047            0.603914                0.602278  \n",
       "11          0.574507    0.601982            0.601400                0.602698  "
      ]
     },
     "execution_count": 26,
     "metadata": {},
     "output_type": "execute_result"
    }
   ],
   "source": [
    "df_scores"
   ]
  },
  {
   "cell_type": "code",
   "execution_count": 33,
   "id": "cda994b3",
   "metadata": {},
   "outputs": [
    {
     "data": {
      "text/html": [
       "<div>\n",
       "<style scoped>\n",
       "    .dataframe tbody tr th:only-of-type {\n",
       "        vertical-align: middle;\n",
       "    }\n",
       "\n",
       "    .dataframe tbody tr th {\n",
       "        vertical-align: top;\n",
       "    }\n",
       "\n",
       "    .dataframe thead th {\n",
       "        text-align: right;\n",
       "    }\n",
       "</style>\n",
       "<table border=\"1\" class=\"dataframe\">\n",
       "  <thead>\n",
       "    <tr style=\"text-align: right;\">\n",
       "      <th></th>\n",
       "      <th>Softmax Mean</th>\n",
       "      <th>Mean</th>\n",
       "      <th>Voting</th>\n",
       "    </tr>\n",
       "    <tr>\n",
       "      <th>Number of Models</th>\n",
       "      <th></th>\n",
       "      <th></th>\n",
       "      <th></th>\n",
       "    </tr>\n",
       "  </thead>\n",
       "  <tbody>\n",
       "    <tr>\n",
       "      <th>1</th>\n",
       "      <td>0.593982</td>\n",
       "      <td>0.593982</td>\n",
       "      <td>0.593982</td>\n",
       "    </tr>\n",
       "    <tr>\n",
       "      <th>2</th>\n",
       "      <td>0.592261</td>\n",
       "      <td>0.591414</td>\n",
       "      <td>0.598089</td>\n",
       "    </tr>\n",
       "    <tr>\n",
       "      <th>3</th>\n",
       "      <td>0.604406</td>\n",
       "      <td>0.608227</td>\n",
       "      <td>0.609223</td>\n",
       "    </tr>\n",
       "    <tr>\n",
       "      <th>4</th>\n",
       "      <td>0.601786</td>\n",
       "      <td>0.609412</td>\n",
       "      <td>0.606778</td>\n",
       "    </tr>\n",
       "    <tr>\n",
       "      <th>5</th>\n",
       "      <td>0.601783</td>\n",
       "      <td>0.616459</td>\n",
       "      <td>0.613477</td>\n",
       "    </tr>\n",
       "    <tr>\n",
       "      <th>6</th>\n",
       "      <td>0.600588</td>\n",
       "      <td>0.610771</td>\n",
       "      <td>0.605748</td>\n",
       "    </tr>\n",
       "    <tr>\n",
       "      <th>7</th>\n",
       "      <td>0.600801</td>\n",
       "      <td>0.609272</td>\n",
       "      <td>0.606795</td>\n",
       "    </tr>\n",
       "    <tr>\n",
       "      <th>8</th>\n",
       "      <td>0.600043</td>\n",
       "      <td>0.607398</td>\n",
       "      <td>0.601148</td>\n",
       "    </tr>\n",
       "    <tr>\n",
       "      <th>9</th>\n",
       "      <td>0.599157</td>\n",
       "      <td>0.608387</td>\n",
       "      <td>0.603875</td>\n",
       "    </tr>\n",
       "    <tr>\n",
       "      <th>10</th>\n",
       "      <td>0.599809</td>\n",
       "      <td>0.607880</td>\n",
       "      <td>0.600632</td>\n",
       "    </tr>\n",
       "    <tr>\n",
       "      <th>11</th>\n",
       "      <td>0.594159</td>\n",
       "      <td>0.603914</td>\n",
       "      <td>0.601047</td>\n",
       "    </tr>\n",
       "    <tr>\n",
       "      <th>12</th>\n",
       "      <td>0.596544</td>\n",
       "      <td>0.601400</td>\n",
       "      <td>0.601982</td>\n",
       "    </tr>\n",
       "  </tbody>\n",
       "</table>\n",
       "</div>"
      ],
      "text/plain": [
       "                  Softmax Mean      Mean    Voting\n",
       "Number of Models                                  \n",
       "1                     0.593982  0.593982  0.593982\n",
       "2                     0.592261  0.591414  0.598089\n",
       "3                     0.604406  0.608227  0.609223\n",
       "4                     0.601786  0.609412  0.606778\n",
       "5                     0.601783  0.616459  0.613477\n",
       "6                     0.600588  0.610771  0.605748\n",
       "7                     0.600801  0.609272  0.606795\n",
       "8                     0.600043  0.607398  0.601148\n",
       "9                     0.599157  0.608387  0.603875\n",
       "10                    0.599809  0.607880  0.600632\n",
       "11                    0.594159  0.603914  0.601047\n",
       "12                    0.596544  0.601400  0.601982"
      ]
     },
     "execution_count": 33,
     "metadata": {},
     "output_type": "execute_result"
    }
   ],
   "source": [
    "df_scores.set_index('i')[['softmax_mean_preds', 'preds_ordered_mean', 'preds_mode']] \\\n",
    "    .rename(columns={'softmax_mean_preds': 'Softmax Mean',\n",
    "             'preds_ordered_mean': 'Mean', \n",
    "             'preds_mode': 'Voting'})\\\n",
    "    .rename_axis('Number of Models')"
   ]
  },
  {
   "cell_type": "code",
   "execution_count": 41,
   "id": "22b3ae3c",
   "metadata": {},
   "outputs": [
    {
     "data": {
      "text/plain": [
       "<AxesSubplot:xlabel='Number of Models', ylabel='Macro F1-Score (dev set)'>"
      ]
     },
     "execution_count": 41,
     "metadata": {},
     "output_type": "execute_result"
    },
    {
     "data": {
      "image/png": "[encoded data removed]",
      "text/plain": [
       "<Figure size 720x360 with 1 Axes>"
      ]
     },
     "metadata": {
      "needs_background": "light"
     },
     "output_type": "display_data"
    }
   ],
   "source": [
    "df_scores.set_index('i')[['softmax_mean_preds', 'preds_ordered_mean', 'preds_mode']] \\\n",
    "    .rename(columns={'softmax_mean_preds': 'Softmax Mean',\n",
    "             'preds_ordered_mean': 'Mean', \n",
    "             'preds_mode': 'Voting'})\\\n",
    "    .rename_axis('Number of Models') \\\n",
    "    .plot(figsize=(10, 5),\n",
    "          xticks=df_scores['i'].values,\n",
    "          ylabel=\"Macro F1-Score\")"
   ]
  },
  {
   "cell_type": "code",
   "execution_count": 27,
   "id": "ed3c0038",
   "metadata": {},
   "outputs": [],
   "source": [
    "results = {\n",
    "    \"softmax_mean_preds\": np.mean(softmax, axis=0).argmax(-1),\n",
    "    \"softmax_max_preds\": np.max(softmax, axis=0).argmax(-1),\n",
    "    \"logits_mean_preds\": np.mean(logits, axis=0).argmax(-1),\n",
    "    \"logits_max_preds\": np.max(logits, axis=0).argmax(-1),\n",
    "    \"preds_mode\": stats.mode(preds, axis=0).mode[0],\n",
    "    \"preds_ordered_mean\": np.mean(preds, axis=0).round(),\n",
    "    \"softmax_to_scalar_mean\": np.mean(soft_preds, axis=0).round()\n",
    "}"
   ]
  },
  {
   "cell_type": "code",
   "execution_count": 28,
   "id": "d99bb5d6",
   "metadata": {},
   "outputs": [
    {
     "data": {
      "text/plain": [
       "{'softmax_to_scalar_mean': 0.6026982945631749,\n",
       " 'preds_mode': 0.6019824907294249,\n",
       " 'preds_ordered_mean': 0.6014000676529339,\n",
       " 'softmax_mean_preds': 0.5965442318797802,\n",
       " 'logits_mean_preds': 0.5955522998660151,\n",
       " 'softmax_max_preds': 0.5859278874731021,\n",
       " 'logits_max_preds': 0.5745068159059707}"
      ]
     },
     "execution_count": 28,
     "metadata": {},
     "output_type": "execute_result"
    }
   ],
   "source": [
    "scores = {}\n",
    "for r in results:\n",
    "    scores[r] = f1_score(y_true, results[r], average=\"macro\")\n",
    "dict(sorted(scores.items(), key=lambda item: item[1], reverse=True))"
   ]
  }
 ],
 "metadata": {
  "kernelspec": {
   "display_name": "Python 3 (ipykernel)",
   "language": "python",
   "name": "python3"
  },
  "language_info": {
   "codemirror_mode": {
    "name": "ipython",
    "version": 3
   },
   "file_extension": ".py",
   "mimetype": "text/x-python",
   "name": "python",
   "nbconvert_exporter": "python",
   "pygments_lexer": "ipython3",
   "version": "3.8.13"
  }
 },
 "nbformat": 4,
 "nbformat_minor": 5
}
