{
 "cells": [
  {
   "cell_type": "code",
   "execution_count": 4,
   "id": "bd9e859b",
   "metadata": {},
   "outputs": [],
   "source": [
    "import os\n",
    "save = [\n",
    "        #'output/initial/roberta-large-mental-health-v1',\n",
    "        #'output/regression/trial_25',\n",
    "        #'output/regression/trial_32',\n",
    "        #'output/regression/trial_44'\n",
    "    ]\n",
    "for root, dirs, files in os.walk(\"output\", topdown=False):\n",
    "    root_in_save = False\n",
    "    for s in save:\n",
    "        if s in root:\n",
    "            root_in_save = True\n",
    "    if root_in_save:\n",
    "        continue\n",
    "   \n",
    "    for file in files:\n",
    "        if file.endswith('.bin') or file.endswith('.pt'):\n",
    "            if file == 'training_args.bin':\n",
    "                continue\n",
    "            to_remove = os.path.join(root, file)\n",
    "            print(to_remove)\n",
    "            #os.remove(to_remove)"
   ]
  }
 ],
 "metadata": {
  "kernelspec": {
   "display_name": "Python 3 (ipykernel)",
   "language": "python",
   "name": "python3"
  },
  "language_info": {
   "codemirror_mode": {
    "name": "ipython",
    "version": 3
   },
   "file_extension": ".py",
   "mimetype": "text/x-python",
   "name": "python",
   "nbconvert_exporter": "python",
   "pygments_lexer": "ipython3",
   "version": "3.8.13"
  }
 },
 "nbformat": 4,
 "nbformat_minor": 5
}
