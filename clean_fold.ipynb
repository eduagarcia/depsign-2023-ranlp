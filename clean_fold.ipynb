{
 "cells": [
  {
   "cell_type": "code",
   "execution_count": 2,
   "id": "d135d82f",
   "metadata": {},
   "outputs": [
    {
     "name": "stdout",
     "output_type": "stream",
     "text": [
      "kfold/output/corn-roberta-mental-health-v2/fold_3/checkpoint-1960/pytorch_model.bin\n",
      "kfold/output/corn-roberta-mental-health-v2/fold_3/checkpoint-1960/scheduler.pt\n",
      "kfold/output/corn-roberta-mental-health-v2/fold_3/checkpoint-1960/optimizer.pt\n",
      "kfold/output/corn-roberta-mental-health-v2/fold_0/checkpoint-1960/pytorch_model.bin\n",
      "kfold/output/corn-roberta-mental-health-v2/fold_0/checkpoint-1960/scheduler.pt\n",
      "kfold/output/corn-roberta-mental-health-v2/fold_0/checkpoint-1960/optimizer.pt\n",
      "kfold/output/corn-roberta-mental-health-v2/fold_2/checkpoint-1960/pytorch_model.bin\n",
      "kfold/output/corn-roberta-mental-health-v2/fold_2/checkpoint-1960/scheduler.pt\n",
      "kfold/output/corn-roberta-mental-health-v2/fold_2/checkpoint-1960/optimizer.pt\n",
      "kfold/output/corn-roberta-mental-health-v2/fold_1/checkpoint-1960/pytorch_model.bin\n",
      "kfold/output/corn-roberta-mental-health-v2/fold_1/checkpoint-1960/scheduler.pt\n",
      "kfold/output/corn-roberta-mental-health-v2/fold_1/checkpoint-1960/optimizer.pt\n"
     ]
    }
   ],
   "source": [
    "import os\n",
    "for root, dirs, files in os.walk(\"kfold\", topdown=False):\n",
    "    if 'checkpoint' not in root:\n",
    "        continue\n",
    "   \n",
    "    for file in files:\n",
    "        if file.endswith('.bin') or file.endswith('.pt'):\n",
    "            if file == 'training_args.bin':\n",
    "                continue\n",
    "            to_remove = os.path.join(root, file)\n",
    "            print(to_remove)\n",
    "            os.remove(to_remove)"
   ]
  },
  {
   "cell_type": "code",
   "execution_count": 8,
   "id": "04bced31",
   "metadata": {},
   "outputs": [
    {
     "data": {
      "text/plain": [
       "['output/roberta-mental-health-v1/trial_12',\n",
       " 'output/roberta-large-v1/trial_8',\n",
       " 'output/roberta-mental-health-v1/trial_22',\n",
       " 'output/roberta-large-v1/trial_10',\n",
       " 'output/deberta-large-v1/trial_11',\n",
       " 'output/roberta-mental-health-v2/trial_28',\n",
       " 'output/deberta-large-v2-defaults/trial_48',\n",
       " 'output/deberta-large-v3-maxlen/trial_25',\n",
       " 'output/deberta-large-v3-maxlen/trial_4',\n",
       " 'output/roberta-mental-health-v3-maxlen/trial_22',\n",
       " 'output/roberta-mental-health-v3-maxlen/trial_14',\n",
       " 'output/deberta-mental-health-v3/trial_17',\n",
       " 'output/deberta-mental-health-v3/trial_13',\n",
       " 'output/deberta-mental-health-v3_2/trial_57',\n",
       " 'output/deberta-mental-health-v3_2/trial_33',\n",
       " 'output/deberta-mental-health-v3_2/trial_79',\n",
       " 'output/roberta-large-v3-maxlen/trial_4',\n",
       " 'output/roberta-large-v3-maxlen/trial_14',\n",
       " 'output/multitask-deberta-mental-health-v2/trial_9',\n",
       " 'output/oll-roberta-mental-health-v2-256tokens/trial_8',\n",
       " 'output/oll-roberta-mental-health-v2-256tokens/trial_13',\n",
       " 'output/oll-roberta-mental-health-v2-256tokens/trial_12',\n",
       " 'output/oll-roberta-mental-health-v1/trial_0',\n",
       " 'output/oll-roberta-mental-health-v1/trial_8',\n",
       " 'output/oll-roberta-mental-health-v1/trial_7']"
      ]
     },
     "execution_count": 8,
     "metadata": {},
     "output_type": "execute_result"
    }
   ],
   "source": [
    "save"
   ]
  }
 ],
 "metadata": {
  "kernelspec": {
   "display_name": "Python 3 (ipykernel)",
   "language": "python",
   "name": "python3"
  },
  "language_info": {
   "codemirror_mode": {
    "name": "ipython",
    "version": 3
   },
   "file_extension": ".py",
   "mimetype": "text/x-python",
   "name": "python",
   "nbconvert_exporter": "python",
   "pygments_lexer": "ipython3",
   "version": "3.8.13"
  }
 },
 "nbformat": 4,
 "nbformat_minor": 5
}
