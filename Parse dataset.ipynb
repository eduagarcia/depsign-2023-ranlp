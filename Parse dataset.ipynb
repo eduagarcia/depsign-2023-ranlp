{
 "cells": [
  {
   "cell_type": "code",
   "execution_count": 1,
   "id": "66ddfb5f",
   "metadata": {},
   "outputs": [],
   "source": [
    "import pandas as pd"
   ]
  },
  {
   "cell_type": "code",
   "execution_count": 2,
   "id": "45860329",
   "metadata": {},
   "outputs": [],
   "source": [
    "df = pd.read_csv('/raid/juliana/depsign/external_data/reddit-data.csv')"
   ]
  },
  {
   "cell_type": "code",
   "execution_count": 3,
   "id": "a1993f55",
   "metadata": {},
   "outputs": [],
   "source": [
    "df['comment'] = df['comment'].str.strip().replace('\\n', ' ')"
   ]
  },
  {
   "cell_type": "code",
   "execution_count": 4,
   "id": "7f02c7c1",
   "metadata": {},
   "outputs": [
    {
     "data": {
      "text/plain": [
       "0           46.0\n",
       "1           46.0\n",
       "2          274.0\n",
       "3            9.0\n",
       "4          236.0\n",
       "           ...  \n",
       "7314358     26.0\n",
       "7314359     16.0\n",
       "7314360    233.0\n",
       "7314361    166.0\n",
       "7314362     83.0\n",
       "Name: comment, Length: 7314363, dtype: float64"
      ]
     },
     "execution_count": 4,
     "metadata": {},
     "output_type": "execute_result"
    }
   ],
   "source": [
    "df['comment'].str.len()"
   ]
  },
  {
   "cell_type": "code",
   "execution_count": 5,
   "id": "462efd2b",
   "metadata": {},
   "outputs": [],
   "source": [
    "most_common_comments = df['comment'].value_counts()"
   ]
  },
  {
   "cell_type": "code",
   "execution_count": 6,
   "id": "f429fd2d",
   "metadata": {},
   "outputs": [
    {
     "data": {
      "text/plain": [
       "[deleted]             149401\n",
       "[removed]              83630\n",
       "Thank you!             12553\n",
       "Thank you               8671\n",
       "Thanks!                 6060\n",
       "Yes                     3892\n",
       "Same                    3836\n",
       "Nice                    2858\n",
       "Thanks                  2805\n",
       "Thank you!!             2447\n",
       "Thank you.              2395\n",
       "Thank you so much!      2171\n",
       "!wave                   1815\n",
       "Congratulations!        1745\n",
       "Yes.                    1740\n",
       "F                       1547\n",
       "Name: comment, dtype: int64"
      ]
     },
     "execution_count": 6,
     "metadata": {},
     "output_type": "execute_result"
    }
   ],
   "source": [
    "most_common_comments.iloc[:16]"
   ]
  },
  {
   "cell_type": "code",
   "execution_count": 7,
   "id": "9a85d891",
   "metadata": {},
   "outputs": [],
   "source": [
    "df_unique = df.groupby('comment').first().reset_index()"
   ]
  },
  {
   "cell_type": "code",
   "execution_count": 8,
   "id": "893775f6",
   "metadata": {},
   "outputs": [
    {
     "data": {
      "text/html": [
       "<div>\n",
       "<style scoped>\n",
       "    .dataframe tbody tr th:only-of-type {\n",
       "        vertical-align: middle;\n",
       "    }\n",
       "\n",
       "    .dataframe tbody tr th {\n",
       "        vertical-align: top;\n",
       "    }\n",
       "\n",
       "    .dataframe thead th {\n",
       "        text-align: right;\n",
       "    }\n",
       "</style>\n",
       "<table border=\"1\" class=\"dataframe\">\n",
       "  <thead>\n",
       "    <tr style=\"text-align: right;\">\n",
       "      <th></th>\n",
       "      <th>comment</th>\n",
       "      <th>id</th>\n",
       "      <th>subreddit</th>\n",
       "    </tr>\n",
       "  </thead>\n",
       "  <tbody>\n",
       "    <tr>\n",
       "      <th>0</th>\n",
       "      <td>!</td>\n",
       "      <td>142054</td>\n",
       "      <td>daddit</td>\n",
       "    </tr>\n",
       "    <tr>\n",
       "      <th>1</th>\n",
       "      <td>!   I count 3 colours</td>\n",
       "      <td>4313278</td>\n",
       "      <td>vexillology</td>\n",
       "    </tr>\n",
       "    <tr>\n",
       "      <th>2</th>\n",
       "      <td>!   If my job were competition style where the...</td>\n",
       "      <td>5501617</td>\n",
       "      <td>ADHD</td>\n",
       "    </tr>\n",
       "    <tr>\n",
       "      <th>3</th>\n",
       "      <td>!  Please watch them</td>\n",
       "      <td>3942705</td>\n",
       "      <td>startrek</td>\n",
       "    </tr>\n",
       "    <tr>\n",
       "      <th>4</th>\n",
       "      <td>!  So she was actually more upset about possib...</td>\n",
       "      <td>6971728</td>\n",
       "      <td>raisedbynarcissists</td>\n",
       "    </tr>\n",
       "    <tr>\n",
       "      <th>...</th>\n",
       "      <td>...</td>\n",
       "      <td>...</td>\n",
       "      <td>...</td>\n",
       "    </tr>\n",
       "    <tr>\n",
       "      <th>6625869</th>\n",
       "      <td>🫶 🫶 🫶 🫶  mission was a success</td>\n",
       "      <td>2960218</td>\n",
       "      <td>sewing</td>\n",
       "    </tr>\n",
       "    <tr>\n",
       "      <th>6625870</th>\n",
       "      <td>🫶🫶</td>\n",
       "      <td>519987</td>\n",
       "      <td>selfharm</td>\n",
       "    </tr>\n",
       "    <tr>\n",
       "      <th>6625871</th>\n",
       "      <td>🫶🫶🫶  You did it mama!!! Congrats      You’re a...</td>\n",
       "      <td>7228196</td>\n",
       "      <td>mommit</td>\n",
       "    </tr>\n",
       "    <tr>\n",
       "      <th>6625872</th>\n",
       "      <td>🫸🫵  Awesome!.Keep going, bud.</td>\n",
       "      <td>4731530</td>\n",
       "      <td>audiobooks</td>\n",
       "    </tr>\n",
       "    <tr>\n",
       "      <th>6625873</th>\n",
       "      <td>󠁵󠁳󠁴󠁸󠁿</td>\n",
       "      <td>4254529</td>\n",
       "      <td>vexillology</td>\n",
       "    </tr>\n",
       "  </tbody>\n",
       "</table>\n",
       "<p>6625874 rows × 3 columns</p>\n",
       "</div>"
      ],
      "text/plain": [
       "                                                   comment       id  \\\n",
       "0                                                        !   142054   \n",
       "1                                    !   I count 3 colours  4313278   \n",
       "2        !   If my job were competition style where the...  5501617   \n",
       "3                                     !  Please watch them  3942705   \n",
       "4        !  So she was actually more upset about possib...  6971728   \n",
       "...                                                    ...      ...   \n",
       "6625869                     🫶 🫶 🫶 🫶  mission was a success  2960218   \n",
       "6625870                                                 🫶🫶   519987   \n",
       "6625871  🫶🫶🫶  You did it mama!!! Congrats      You’re a...  7228196   \n",
       "6625872                      🫸🫵  Awesome!.Keep going, bud.  4731530   \n",
       "6625873                                              󠁵󠁳󠁴󠁸󠁿  4254529   \n",
       "\n",
       "                   subreddit  \n",
       "0                     daddit  \n",
       "1                vexillology  \n",
       "2                       ADHD  \n",
       "3                   startrek  \n",
       "4        raisedbynarcissists  \n",
       "...                      ...  \n",
       "6625869               sewing  \n",
       "6625870             selfharm  \n",
       "6625871               mommit  \n",
       "6625872           audiobooks  \n",
       "6625873          vexillology  \n",
       "\n",
       "[6625874 rows x 3 columns]"
      ]
     },
     "execution_count": 8,
     "metadata": {},
     "output_type": "execute_result"
    }
   ],
   "source": [
    "df_unique"
   ]
  },
  {
   "cell_type": "code",
   "execution_count": 9,
   "id": "f6b4a392",
   "metadata": {},
   "outputs": [
    {
     "data": {
      "text/plain": [
       "0.9058716391297505"
      ]
     },
     "execution_count": 9,
     "metadata": {},
     "output_type": "execute_result"
    }
   ],
   "source": [
    "len(df_unique)/len(df)"
   ]
  },
  {
   "cell_type": "code",
   "execution_count": 10,
   "id": "0110ce53",
   "metadata": {},
   "outputs": [
    {
     "data": {
      "text/plain": [
       "relationship_advice    360585\n",
       "ADHD                   304167\n",
       "childfree              254030\n",
       "Frugal                 253071\n",
       "raisedbynarcissists    221682\n",
       "                        ...  \n",
       "mentalhealthuk           2361\n",
       "stopselfharm             1940\n",
       "derealization            1837\n",
       "dysthymia                1557\n",
       "mindful_meditation        234\n",
       "Name: subreddit, Length: 108, dtype: int64"
      ]
     },
     "execution_count": 10,
     "metadata": {},
     "output_type": "execute_result"
    }
   ],
   "source": [
    "df_unique['subreddit'].value_counts()"
   ]
  },
  {
   "cell_type": "code",
   "execution_count": 11,
   "id": "30aec1c1",
   "metadata": {},
   "outputs": [],
   "source": [
    "mental_health_subs = ['depression', 'anxiety', 'bipolar', 'schizophrenia', 'ADHD', 'autism', 'OCD', 'PTSD', 'BPD', 'eatingdisorders', 'socialanxiety', 'healthanxiety', 'dyslexia', 'bipolar2', 'dpdr', 'agoraphobia', 'mentalhealth', 'aspergers', 'psychosis', 'alcoholism', 'stopdrinking', 'addiction', 'narcoticsanonymous', 'suicidewatch', 'stopselfharm', 'cptsd', 'depersonalization', 'raisedbynarcissists', 'adultsurvivors', 'traumatoolbox', 'did', 'avpd', 'dissociation', 'bodydysmorphia', 'schizoaffective', 'mommit', 'daddit', 'lonely', 'griefsupport', 'emetophobia', 'insomnia', 'meditation', 'mindfulness', 'dbtselfhelp', 'madover30', 'narcolepsy', 'anger', 'codependency', 'trichotillomania', 'selfharm', 'depression_help', 'getting_over_it', 'mentalillness', 'hsp', 'neurodiversity', 'phobia', 'tourettes', 'antidepressants', 'psychiatry', 'benzodiazepines', 'therapy', 'traumatoolbox', 'psychology', 'selfimprovement', 'mindful_meditation', 'adultchildren', 'dysthymia', 'depressionregimens', 'hoarding', 'relationship_advice', 'getoutofbed', 'intrusivethoughts', 'mentalhealthsupport', 'mentalhealthuk', 'derealization']\n",
    "non_mental_health_subs = ['Frugal', 'AskHistorians', 'SketchDaily', 'childfree', 'theydidthemath', 'simpleliving', 'AmateurRoomPorn', 'minipainting', 'ZeroWaste', 'sewing', 'wholesomegifs', 'AskCulinary', 'PenmanshipPorn', 'tea', 'InteriorDesign', 'LearnUselessTalents', 'languagelearning', 'Repaintings', 'succulents', 'learnart', 'startrek', 'vexillology', 'cordcutters', 'dogtraining', 'tinyhouses', 'calligraphy', 'ArcherFX', 'audiobooks', 'SampleSize', 'GarlicBreadMemes', 'urbanplanning', 'WhatsInThisThing', 'notebooks', 'Ask_Politics']"
   ]
  },
  {
   "cell_type": "code",
   "execution_count": 12,
   "id": "50d3177c",
   "metadata": {},
   "outputs": [],
   "source": [
    "df_unique['subreddit_type'] = df_unique['subreddit'].apply(lambda x: 'mental_health' if x in mental_health_subs else ('non_mental_health' if x in non_mental_health_subs else None))"
   ]
  },
  {
   "cell_type": "code",
   "execution_count": 13,
   "id": "04e2c0e8",
   "metadata": {},
   "outputs": [
    {
     "data": {
      "text/plain": [
       "mental_health        3424463\n",
       "non_mental_health    3201411\n",
       "Name: subreddit_type, dtype: int64"
      ]
     },
     "execution_count": 13,
     "metadata": {},
     "output_type": "execute_result"
    }
   ],
   "source": [
    "df_unique['subreddit_type'].value_counts()"
   ]
  },
  {
   "cell_type": "code",
   "execution_count": 21,
   "id": "b31b417a",
   "metadata": {},
   "outputs": [],
   "source": [
    "df_unique_data = df_unique.groupby('subreddit')[['comment']].count().reset_index()\n",
    "df_unique_data['subreddit_type'] = df_unique_data['subreddit'].apply(lambda x: 'mental_health' if x in mental_health_subs else ('non_mental_health' if x in non_mental_health_subs else None))\n",
    "df_unique_data.to_csv('balanced_reddit_corpus_stats.csv', index=False)"
   ]
  },
  {
   "cell_type": "code",
   "execution_count": 20,
   "id": "3be36c5c",
   "metadata": {},
   "outputs": [
    {
     "data": {
      "text/html": [
       "<div>\n",
       "<style scoped>\n",
       "    .dataframe tbody tr th:only-of-type {\n",
       "        vertical-align: middle;\n",
       "    }\n",
       "\n",
       "    .dataframe tbody tr th {\n",
       "        vertical-align: top;\n",
       "    }\n",
       "\n",
       "    .dataframe thead th {\n",
       "        text-align: right;\n",
       "    }\n",
       "</style>\n",
       "<table border=\"1\" class=\"dataframe\">\n",
       "  <thead>\n",
       "    <tr style=\"text-align: right;\">\n",
       "      <th></th>\n",
       "      <th>subreddit</th>\n",
       "      <th>comment</th>\n",
       "      <th>subreddit_type</th>\n",
       "    </tr>\n",
       "  </thead>\n",
       "  <tbody>\n",
       "    <tr>\n",
       "      <th>0</th>\n",
       "      <td>ADHD</td>\n",
       "      <td>304167</td>\n",
       "      <td>mental_health</td>\n",
       "    </tr>\n",
       "    <tr>\n",
       "      <th>1</th>\n",
       "      <td>AmateurRoomPorn</td>\n",
       "      <td>125236</td>\n",
       "      <td>non_mental_health</td>\n",
       "    </tr>\n",
       "    <tr>\n",
       "      <th>2</th>\n",
       "      <td>ArcherFX</td>\n",
       "      <td>85322</td>\n",
       "      <td>non_mental_health</td>\n",
       "    </tr>\n",
       "    <tr>\n",
       "      <th>3</th>\n",
       "      <td>AskCulinary</td>\n",
       "      <td>120444</td>\n",
       "      <td>non_mental_health</td>\n",
       "    </tr>\n",
       "    <tr>\n",
       "      <th>4</th>\n",
       "      <td>AskHistorians</td>\n",
       "      <td>50978</td>\n",
       "      <td>non_mental_health</td>\n",
       "    </tr>\n",
       "    <tr>\n",
       "      <th>...</th>\n",
       "      <td>...</td>\n",
       "      <td>...</td>\n",
       "      <td>...</td>\n",
       "    </tr>\n",
       "    <tr>\n",
       "      <th>103</th>\n",
       "      <td>traumatoolbox</td>\n",
       "      <td>2986</td>\n",
       "      <td>mental_health</td>\n",
       "    </tr>\n",
       "    <tr>\n",
       "      <th>104</th>\n",
       "      <td>trichotillomania</td>\n",
       "      <td>8516</td>\n",
       "      <td>mental_health</td>\n",
       "    </tr>\n",
       "    <tr>\n",
       "      <th>105</th>\n",
       "      <td>urbanplanning</td>\n",
       "      <td>79830</td>\n",
       "      <td>non_mental_health</td>\n",
       "    </tr>\n",
       "    <tr>\n",
       "      <th>106</th>\n",
       "      <td>vexillology</td>\n",
       "      <td>189247</td>\n",
       "      <td>non_mental_health</td>\n",
       "    </tr>\n",
       "    <tr>\n",
       "      <th>107</th>\n",
       "      <td>wholesomegifs</td>\n",
       "      <td>121649</td>\n",
       "      <td>non_mental_health</td>\n",
       "    </tr>\n",
       "  </tbody>\n",
       "</table>\n",
       "<p>108 rows × 3 columns</p>\n",
       "</div>"
      ],
      "text/plain": [
       "            subreddit  comment     subreddit_type\n",
       "0                ADHD   304167      mental_health\n",
       "1     AmateurRoomPorn   125236  non_mental_health\n",
       "2            ArcherFX    85322  non_mental_health\n",
       "3         AskCulinary   120444  non_mental_health\n",
       "4       AskHistorians    50978  non_mental_health\n",
       "..                ...      ...                ...\n",
       "103     traumatoolbox     2986      mental_health\n",
       "104  trichotillomania     8516      mental_health\n",
       "105     urbanplanning    79830  non_mental_health\n",
       "106       vexillology   189247  non_mental_health\n",
       "107     wholesomegifs   121649  non_mental_health\n",
       "\n",
       "[108 rows x 3 columns]"
      ]
     },
     "execution_count": 20,
     "metadata": {},
     "output_type": "execute_result"
    }
   ],
   "source": [
    "df_unique_data"
   ]
  },
  {
   "cell_type": "code",
   "execution_count": 13,
   "id": "bc28a6d7",
   "metadata": {},
   "outputs": [],
   "source": [
    "df_random = df_unique.sample(frac=1)"
   ]
  },
  {
   "cell_type": "code",
   "execution_count": 14,
   "id": "b919832b",
   "metadata": {},
   "outputs": [],
   "source": [
    "cutoff_ìdx = int(len(df_random)*0.98)\n",
    "train_data = df_random['comment'].iloc[:cutoff_ìdx]\n",
    "test_data = df_random['comment'].iloc[cutoff_ìdx:]"
   ]
  },
  {
   "cell_type": "code",
   "execution_count": 15,
   "id": "1e285cb6",
   "metadata": {},
   "outputs": [],
   "source": [
    "with open('/raid/juliana/depsign/external_data/reddit-corpora-train.txt', 'w') as f:\n",
    "    for text in train_data:\n",
    "        f.write(text+'\\n')\n",
    "        \n",
    "with open('/raid/juliana/depsign/external_data/reddit-corpora-test.txt', 'w') as f:\n",
    "    for text in test_data:\n",
    "        f.write(text+'\\n')"
   ]
  }
 ],
 "metadata": {
  "kernelspec": {
   "display_name": "Python 3 (ipykernel)",
   "language": "python",
   "name": "python3"
  },
  "language_info": {
   "codemirror_mode": {
    "name": "ipython",
    "version": 3
   },
   "file_extension": ".py",
   "mimetype": "text/x-python",
   "name": "python",
   "nbconvert_exporter": "python",
   "pygments_lexer": "ipython3",
   "version": "3.8.13"
  }
 },
 "nbformat": 4,
 "nbformat_minor": 5
}
