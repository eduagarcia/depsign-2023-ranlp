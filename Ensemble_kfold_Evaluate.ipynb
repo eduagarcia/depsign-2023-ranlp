{
 "cells": [
  {
   "cell_type": "code",
   "execution_count": 9,
   "id": "79e83683",
   "metadata": {},
   "outputs": [],
   "source": [
    "import torch\n",
    "#torch.multiprocessing.set_start_method('spawn')\n",
    "import pandas as pd\n",
    "import unicodedata\n",
    "import os\n",
    "from sklearn.metrics import f1_score\n",
    "import numpy as np\n",
    "from scipy import stats"
   ]
  },
  {
   "cell_type": "code",
   "execution_count": 10,
   "id": "2d811204",
   "metadata": {},
   "outputs": [],
   "source": [
    "#dev_df = pd.read_csv('../data/dev_data.csv', encoding=\"utf8\")\n",
    "test_df = pd.read_csv('../data/test_data_with_label.csv', encoding=\"utf8\")"
   ]
  },
  {
   "cell_type": "code",
   "execution_count": 11,
   "id": "6f1c3da5",
   "metadata": {},
   "outputs": [],
   "source": [
    "import unicodedata\n",
    "def reencode_and_normalize(text):\n",
    "    transl_table = dict([(ord(x), ord(y)) for x,y in zip( u\"‘’´“”–-\",  u\"'''\\\"\\\"--\")])\n",
    "    fixed_text = text.replace('鈥�', '\"').replace('鉂�', '').encode('gb18030').decode('utf8')\n",
    "    fixed_text = unicodedata.normalize(\"NFKD\", fixed_text)\n",
    "    fixed_text = fixed_text.translate(transl_table)\n",
    "    return fixed_text\n",
    "\n",
    "test_df['Text data'] = test_df['Text data'].apply(reencode_and_normalize)"
   ]
  },
  {
   "cell_type": "code",
   "execution_count": 12,
   "id": "ba980a0f",
   "metadata": {},
   "outputs": [],
   "source": [
    "test_df['Text data'] = test_df['Text data'].str.strip()\n",
    "#dev_df['text data'] = dev_df['text data'].str.strip()"
   ]
  },
  {
   "cell_type": "code",
   "execution_count": 13,
   "id": "562378d9",
   "metadata": {},
   "outputs": [],
   "source": [
    "test_texts = list(test_df['Text data'].values)\n",
    "#dev_texts = list(dev_df['text data'].values)"
   ]
  },
  {
   "cell_type": "code",
   "execution_count": 18,
   "id": "49ca4b6d",
   "metadata": {},
   "outputs": [],
   "source": [
    "models_path = 'kfold/output'\n",
    "n_folds = 4\n",
    "\n",
    "model_names = [d for d in os.listdir(models_path) if os.path.isdir(os.path.join(models_path, d)) and not d.startswith('.')]"
   ]
  },
  {
   "cell_type": "code",
   "execution_count": 19,
   "id": "07e4cfde",
   "metadata": {},
   "outputs": [
    {
     "data": {
      "text/plain": [
       "['regression-v2',\n",
       " 'deberta-mental-health-v3',\n",
       " 'oll-roberta-mental-health-v2-fixloss',\n",
       " 'roberta-large-v3-maxlen',\n",
       " 'deberta-large-v3-maxlen',\n",
       " 'roberta-mental-health-headtail-75',\n",
       " 'roberta-large-v3-maxlen_class_weights',\n",
       " 'roberta-mental-health-headtail-0',\n",
       " 'roberta-large-v3-maxlen_oversampled',\n",
       " 'roberta-mental-health-v3-maxlen',\n",
       " 'corn-roberta-mental-health-v2',\n",
       " 'roberta-mental-health-headtail-50',\n",
       " 'roberta-mental-health-headtail-25',\n",
       " 'roberta-mental-health-v6-labelsmoothing']"
      ]
     },
     "execution_count": 19,
     "metadata": {},
     "output_type": "execute_result"
    }
   ],
   "source": [
    "model_names"
   ]
  },
  {
   "cell_type": "code",
   "execution_count": 20,
   "id": "d9b17427",
   "metadata": {},
   "outputs": [],
   "source": [
    "id2label = {\n",
    "    0:\"not depression\",\n",
    "    1:\"moderate\",\n",
    "    2:\"severe\"\n",
    "}\n",
    "\n",
    "label2id = {v: k for k, v in id2label.items()}"
   ]
  },
  {
   "cell_type": "code",
   "execution_count": 9,
   "id": "13ae229e",
   "metadata": {},
   "outputs": [],
   "source": [
    "from transformers import AutoModelForSequenceClassification, AutoTokenizer\n",
    "from hypsearch.coral import CoralRobertaForSequenceClassification\n",
    "import torch\n",
    "import os\n",
    "import json\n",
    "\n",
    "def load_model(model_path):\n",
    "    with open(os.path.join(model_path, 'config.json'), 'r') as f:\n",
    "        config = json.load(f)\n",
    "    if 'class_regression' in config and config['class_regression']:\n",
    "        model = AutoModelForSequenceClassification.from_pretrained(model_path, num_labels=1)\n",
    "    elif ('corn_model' in config or 'coral_model' in config) and (config['corn_model'] or config['coral_model']):\n",
    "        model = CoralRobertaForSequenceClassification.from_pretrained(model_path)\n",
    "    else:\n",
    "        model = AutoModelForSequenceClassification.from_pretrained(model_path)\n",
    "    tokenizer = AutoTokenizer.from_pretrained(model_path)\n",
    "    return model, tokenizer\n",
    "\n",
    "#model, tokenizer = load_model('hypsearch/output/roberta-large-v3-maxlen/trial_4')\n",
    "#model = model.to(device)"
   ]
  },
  {
   "cell_type": "code",
   "execution_count": 10,
   "id": "d269f39e",
   "metadata": {},
   "outputs": [],
   "source": [
    "import torch.nn.functional as F\n",
    "from hypsearch.coral import proba_to_label_np, corn_label_from_logits_np\n",
    "import numpy as np\n",
    "import gc\n",
    "\n",
    "def predict(texts, model, tokenizer, batchsize=64, device=torch.device('cpu'), max_seq_length=512):\n",
    "    all_logits = []\n",
    "    for i in range(0, len(texts), batchsize):\n",
    "        #print(len(all_logits), len(texts)//batchsize)\n",
    "        batch = texts[i:i+batchsize]\n",
    "        \n",
    "        max_head_limit = None\n",
    "        if hasattr(model.config, 'max_head_limit'):\n",
    "            max_head_limit = model.config.max_head_limit\n",
    "            \n",
    "        if max_head_limit is None:\n",
    "            inputs = tokenizer(batch, truncation=True, padding=True, return_tensors='pt', max_length=max_seq_length).to(device)\n",
    "        else:\n",
    "            head_limit = max_head_limit\n",
    "            if isinstance(head_limit, float):\n",
    "                head_limit = round(max_seq_length*head_limit)\n",
    "                if head_limit == 0:\n",
    "                    head_limit = 1\n",
    "            #print('head_limit', head_limit)\n",
    "            inputs = {\n",
    "                'input_ids': [],\n",
    "                'attention_mask': []\n",
    "            }\n",
    "            tokenized_dataset = tokenizer(batch, padding=True, truncation=False)\n",
    "            token_to_find = tokenizer.sep_token_id\n",
    "            for tokens, attention_mask in zip(tokenized_dataset['input_ids'], tokenized_dataset['attention_mask']):\n",
    "                size = tokens.index(token_to_find) + 1\n",
    "                if size > max_seq_length:\n",
    "                    inputs['input_ids'].append(tokens[:head_limit]+ tokens[size-max_seq_length+head_limit:size])\n",
    "                    inputs['attention_mask'].append(attention_mask[:head_limit]+ attention_mask[size-max_seq_length+head_limit:size])\n",
    "                else:\n",
    "                    inputs['input_ids'].append(tokens[:max_seq_length])\n",
    "                    inputs['attention_mask'].append(attention_mask[:max_seq_length])\n",
    "            inputs['input_ids'] = torch.tensor(inputs['input_ids'], dtype=torch.long, device=device)\n",
    "            inputs['attention_mask'] = torch.tensor(inputs['attention_mask'], dtype=torch.long, device=device)\n",
    "\n",
    "        with torch.no_grad():\n",
    "            outputs = model(**inputs)\n",
    "\n",
    "        all_logits.append(outputs.logits.detach().cpu())\n",
    "        \n",
    "        del inputs\n",
    "        del outputs\n",
    "    \n",
    "    all_logits = torch.cat(all_logits)\n",
    "    softmax = F.softmax(all_logits, dim=-1).numpy()\n",
    "    all_logits = all_logits.numpy()\n",
    "    \n",
    "    if (hasattr(model.config, 'class_regression') and model.config.class_regression) or (hasattr(model.config, 'problem_type') and model.config.problem_type == \"regression\"):\n",
    "        soft_preds = np.squeeze(all_logits)\n",
    "        preds = np.clip(np.round(soft_preds).astype(int), 0, len(label2id)-1) \n",
    "        logits_output = np.eye(len(label2id))[preds]\n",
    "        softmax_output = logits_output.copy()\n",
    "    elif (hasattr(model.config, 'corn_model') and model.config.corn_model):\n",
    "        preds = corn_label_from_logits_np(all_logits)\n",
    "        soft_preds = preds.copy()\n",
    "        logits_output = np.eye(len(label2id))[preds]\n",
    "        softmax_output = logits_output.copy()\n",
    "    elif (hasattr(model.config, 'coral_model') and model.config.coral_model):\n",
    "        return None\n",
    "    else:\n",
    "        remap_labels = []\n",
    "        for label in label2id:\n",
    "            remap_labels.append(model.config.label2id[label])\n",
    "        logits_output = all_logits[:, remap_labels].copy()\n",
    "        softmax_output = softmax[:, remap_labels].copy()\n",
    "        preds = softmax_output.argmax(-1)\n",
    "        \n",
    "        #soft preds\n",
    "        #[0.7, 0.1, 0.2] -> (0 + 0.1 + 0.2) -> 0.3\n",
    "        #[0.1, 0.7, 0.2] -> (1 - 0.1 + 0.2) -> 1.1\n",
    "        #[0.1, 0.2, 0.7] -> (2 - 0.1 - 0.2) -> 1.7\n",
    "        \n",
    "        #[0.3, 0.3, 0.4] -> (2 - 0.3 - 0.3) -> 1.4 .round() -> 1 #error\n",
    "        #[0.3333, 0.333, 0.33..4] -> lower bound\n",
    "        #[0.49, 0.0, 0.51] -> (2 - 0.49 - 0.0) -> 1.51 .round() -> 2\n",
    "        dist_mask = np.array([\n",
    "            [0, 1, 1],\n",
    "            [-1, 0, 1],\n",
    "            [-1, -1, 0]\n",
    "        ])\n",
    "\n",
    "        soft_preds = preds + np.clip(np.sum(dist_mask[preds] * softmax_output, axis=-1), -0.499, 0.499)\n",
    "    \n",
    "    gc.collect()\n",
    "    torch.cuda.empty_cache()\n",
    "    \n",
    "    return preds, soft_preds, softmax_output, logits_output"
   ]
  },
  {
   "cell_type": "code",
   "execution_count": 11,
   "id": "b76fc9df",
   "metadata": {},
   "outputs": [],
   "source": [
    "dev_outputs = {model_name: {} for model_name in model_names}\n",
    "test_outputs = {model_name: {} for model_name in model_names}"
   ]
  },
  {
   "cell_type": "code",
   "execution_count": 14,
   "id": "d64073ad",
   "metadata": {},
   "outputs": [],
   "source": [
    "#del dev_outputs['.ipynb_checkpoints']\n",
    "#del test_outputs['.ipynb_checkpoints']"
   ]
  },
  {
   "cell_type": "code",
   "execution_count": 21,
   "id": "f9c422a9",
   "metadata": {},
   "outputs": [],
   "source": [
    "import pickle\n",
    "if os.path.exists('dev_outputs.pickle'):\n",
    "    with open('dev_outputs.pickle', 'rb') as f:\n",
    "        dev_outputs = pickle.load(f)\n",
    "    with open('test_outputs.pickle', 'rb') as f:\n",
    "        test_outputs = pickle.load(f)"
   ]
  },
  {
   "cell_type": "code",
   "execution_count": 21,
   "id": "0b613ac7",
   "metadata": {},
   "outputs": [
    {
     "name": "stdout",
     "output_type": "stream",
     "text": [
      "skipping regression-v2_0\n",
      "skipping deberta-mental-health-v3_0\n",
      "skipping oll-roberta-mental-health-v2-fixloss_0\n",
      "skipping roberta-large-v3-maxlen_0\n",
      "skipping deberta-large-v3-maxlen_0\n",
      "skipping roberta-mental-health-headtail-75_0\n",
      "skipping roberta-mental-health-headtail-0_0\n",
      "skipping roberta-mental-health-v3-maxlen_0\n",
      "skipping corn-roberta-mental-health-v2_0\n",
      "skipping roberta-mental-health-headtail-50_0\n",
      "skipping roberta-mental-health-headtail-25_0\n",
      "skipping roberta-mental-health-v6-labelsmoothing_0\n",
      "kfold/output/regression-v2/fold_1\n"
     ]
    },
    {
     "name": "stderr",
     "output_type": "stream",
     "text": [
      "Token indices sequence length is longer than the specified maximum sequence length for this model (1082 > 512). Running this sequence through the model will result in indexing errors\n"
     ]
    },
    {
     "name": "stdout",
     "output_type": "stream",
     "text": [
      "kfold/output/deberta-mental-health-v3/fold_1\n",
      "kfold/output/oll-roberta-mental-health-v2-fixloss/fold_1\n"
     ]
    },
    {
     "name": "stderr",
     "output_type": "stream",
     "text": [
      "Token indices sequence length is longer than the specified maximum sequence length for this model (1082 > 512). Running this sequence through the model will result in indexing errors\n"
     ]
    },
    {
     "name": "stdout",
     "output_type": "stream",
     "text": [
      "kfold/output/roberta-large-v3-maxlen/fold_1\n",
      "kfold/output/deberta-large-v3-maxlen/fold_1\n"
     ]
    },
    {
     "ename": "KeyboardInterrupt",
     "evalue": "",
     "output_type": "error",
     "traceback": [
      "\u001b[0;31m---------------------------------------------------------------------------\u001b[0m",
      "\u001b[0;31mKeyboardInterrupt\u001b[0m                         Traceback (most recent call last)",
      "Input \u001b[0;32mIn [21]\u001b[0m, in \u001b[0;36m<cell line: 2>\u001b[0;34m()\u001b[0m\n\u001b[1;32m     14\u001b[0m model, tokenizer \u001b[38;5;241m=\u001b[39m load_model(model_path)\n\u001b[1;32m     15\u001b[0m model \u001b[38;5;241m=\u001b[39m model\u001b[38;5;241m.\u001b[39mto(device)\n\u001b[0;32m---> 17\u001b[0m model_outputs \u001b[38;5;241m=\u001b[39m \u001b[43mpredict\u001b[49m\u001b[43m(\u001b[49m\u001b[43mdev_texts\u001b[49m\u001b[43m,\u001b[49m\u001b[43m \u001b[49m\u001b[43mmodel\u001b[49m\u001b[43m,\u001b[49m\u001b[43m \u001b[49m\u001b[43mtokenizer\u001b[49m\u001b[43m,\u001b[49m\u001b[43m \u001b[49m\u001b[43mbatchsize\u001b[49m\u001b[38;5;241;43m=\u001b[39;49m\u001b[38;5;241;43m128\u001b[39;49m\u001b[43m,\u001b[49m\u001b[43m \u001b[49m\u001b[43mdevice\u001b[49m\u001b[38;5;241;43m=\u001b[39;49m\u001b[43mdevice\u001b[49m\u001b[43m)\u001b[49m\n\u001b[1;32m     18\u001b[0m dev_outputs[model_name][fold]\u001b[38;5;241m.\u001b[39mappend(model_outputs)\n\u001b[1;32m     20\u001b[0m model_outputs \u001b[38;5;241m=\u001b[39m predict(test_texts, model, tokenizer, batchsize\u001b[38;5;241m=\u001b[39m\u001b[38;5;241m128\u001b[39m, device\u001b[38;5;241m=\u001b[39mdevice)\n",
      "Input \u001b[0;32mIn [11]\u001b[0m, in \u001b[0;36mpredict\u001b[0;34m(texts, model, tokenizer, batchsize, device, max_seq_length)\u001b[0m\n\u001b[1;32m     42\u001b[0m \u001b[38;5;28;01mwith\u001b[39;00m torch\u001b[38;5;241m.\u001b[39mno_grad():\n\u001b[1;32m     43\u001b[0m     outputs \u001b[38;5;241m=\u001b[39m model(\u001b[38;5;241m*\u001b[39m\u001b[38;5;241m*\u001b[39minputs)\n\u001b[0;32m---> 45\u001b[0m all_logits\u001b[38;5;241m.\u001b[39mappend(\u001b[43moutputs\u001b[49m\u001b[38;5;241;43m.\u001b[39;49m\u001b[43mlogits\u001b[49m\u001b[38;5;241;43m.\u001b[39;49m\u001b[43mdetach\u001b[49m\u001b[43m(\u001b[49m\u001b[43m)\u001b[49m\u001b[38;5;241;43m.\u001b[39;49m\u001b[43mcpu\u001b[49m\u001b[43m(\u001b[49m\u001b[43m)\u001b[49m)\n\u001b[1;32m     47\u001b[0m \u001b[38;5;28;01mdel\u001b[39;00m inputs\n\u001b[1;32m     48\u001b[0m \u001b[38;5;28;01mdel\u001b[39;00m outputs\n",
      "\u001b[0;31mKeyboardInterrupt\u001b[0m: "
     ]
    }
   ],
   "source": [
    "\"\"\"\n",
    "device = torch.device('cuda:7')\n",
    "for fold in range(n_folds):\n",
    "    dev_df = pd.read_csv(f'./kfold/{fold}/dev_data.csv', encoding=\"utf8\")\n",
    "    dev_df['text data'] = dev_df['text data'].str.strip()\n",
    "    dev_texts = list(dev_df['text data'].values)\n",
    "    for model_name in model_names:\n",
    "        if len(dev_outputs[model_name][fold]) > 0 and len(test_outputs[model_name][fold]) > 0:\n",
    "            print(f\"skipping {model_name}/fold_{fold}\")\n",
    "            continue\n",
    "        \n",
    "        model_path = os.path.join(models_path, model_name, 'fold_'+str(fold))\n",
    "        print(model_path)\n",
    "        \n",
    "        model, tokenizer = load_model(model_path)\n",
    "        model = model.to(device)\n",
    "        \n",
    "        model_outputs = predict(dev_texts, model, tokenizer, batchsize=128, device=device)\n",
    "        dev_outputs[model_name][fold].append(model_outputs)\n",
    "        \n",
    "        model_outputs = predict(test_texts, model, tokenizer, batchsize=128, device=device)\n",
    "        test_outputs[model_name][fold].append(model_outputs)\n",
    "        \n",
    "        del model\n",
    "        gc.collect()\n",
    "        torch.cuda.empty_cache()\n",
    "\"\"\""
   ]
  },
  {
   "cell_type": "code",
   "execution_count": 12,
   "id": "576fa865",
   "metadata": {
    "collapsed": true,
    "jupyter": {
     "outputs_hidden": true
    }
   },
   "outputs": [
    {
     "name": "stdout",
     "output_type": "stream",
     "text": [
      "36520: starting process on GPU cuda:1\n",
      "36521: starting process on GPU cuda:5\n",
      "36522: starting process on GPU cuda:6\n",
      "36523: starting process on GPU cuda:7\n",
      "kfold/output/regression-v2/fold_0\n",
      "kfold/output/deberta-mental-health-v3/fold_0\n",
      "kfold/output/oll-roberta-mental-health-v2-fixloss/fold_0\n",
      "kfold/output/roberta-large-v3-maxlen/fold_0\n"
     ]
    },
    {
     "name": "stderr",
     "output_type": "stream",
     "text": [
      "/opt/conda/lib/python3.8/site-packages/torch/nn/modules/module.py:1383: UserWarning: positional arguments and argument \"destination\" are deprecated. nn.Module.state_dict will not accept them in the future. Refer to https://pytorch.org/docs/master/generated/torch.nn.Module.html#torch.nn.Module.state_dict for details.\n",
      "  warnings.warn(\n",
      "/opt/conda/lib/python3.8/site-packages/torch/nn/modules/module.py:1383: UserWarning: positional arguments and argument \"destination\" are deprecated. nn.Module.state_dict will not accept them in the future. Refer to https://pytorch.org/docs/master/generated/torch.nn.Module.html#torch.nn.Module.state_dict for details.\n",
      "  warnings.warn(\n",
      "/opt/conda/lib/python3.8/site-packages/torch/nn/modules/module.py:1383: UserWarning: positional arguments and argument \"destination\" are deprecated. nn.Module.state_dict will not accept them in the future. Refer to https://pytorch.org/docs/master/generated/torch.nn.Module.html#torch.nn.Module.state_dict for details.\n",
      "  warnings.warn(\n",
      "/opt/conda/lib/python3.8/site-packages/torch/nn/modules/module.py:1383: UserWarning: positional arguments and argument \"destination\" are deprecated. nn.Module.state_dict will not accept them in the future. Refer to https://pytorch.org/docs/master/generated/torch.nn.Module.html#torch.nn.Module.state_dict for details.\n",
      "  warnings.warn(\n",
      "Token indices sequence length is longer than the specified maximum sequence length for this model (1174 > 512). Running this sequence through the model will result in indexing errors\n",
      "Token indices sequence length is longer than the specified maximum sequence length for this model (1174 > 512). Running this sequence through the model will result in indexing errors\n"
     ]
    },
    {
     "name": "stdout",
     "output_type": "stream",
     "text": [
      "36523: finished\n",
      "36523: starting process on GPU cuda:7\n",
      "kfold/output/deberta-large-v3-maxlen/fold_0\n",
      "36520: finished\n",
      "36520: starting process on GPU cuda:1\n",
      "kfold/output/roberta-mental-health-headtail-75/fold_0\n",
      "36522: finished\n",
      "36522: starting process on GPU cuda:6\n",
      "kfold/output/roberta-mental-health-headtail-0/fold_0\n"
     ]
    },
    {
     "name": "stderr",
     "output_type": "stream",
     "text": [
      "Token indices sequence length is longer than the specified maximum sequence length for this model (1174 > 512). Running this sequence through the model will result in indexing errors\n",
      "Token indices sequence length is longer than the specified maximum sequence length for this model (1174 > 512). Running this sequence through the model will result in indexing errors\n"
     ]
    },
    {
     "name": "stdout",
     "output_type": "stream",
     "text": [
      "36521: finished\n",
      "36521: starting process on GPU cuda:5\n",
      "kfold/output/roberta-mental-health-v3-maxlen/fold_0\n",
      "36520: finished\n",
      "36520: starting process on GPU cuda:1\n",
      "kfold/output/corn-roberta-mental-health-v2/fold_0\n",
      "36522: finished\n",
      "36522: starting process on GPU cuda:6\n",
      "kfold/output/roberta-mental-health-headtail-50/fold_0\n"
     ]
    },
    {
     "name": "stderr",
     "output_type": "stream",
     "text": [
      "Token indices sequence length is longer than the specified maximum sequence length for this model (1174 > 512). Running this sequence through the model will result in indexing errors\n",
      "Token indices sequence length is longer than the specified maximum sequence length for this model (1174 > 512). Running this sequence through the model will result in indexing errors\n"
     ]
    },
    {
     "name": "stdout",
     "output_type": "stream",
     "text": [
      "36521: finished\n",
      "36521: starting process on GPU cuda:5\n",
      "kfold/output/roberta-mental-health-headtail-25/fold_0\n",
      "36523: finished\n",
      "36523: starting process on GPU cuda:7\n",
      "kfold/output/roberta-mental-health-v6-labelsmoothing/fold_0\n"
     ]
    },
    {
     "name": "stderr",
     "output_type": "stream",
     "text": [
      "Token indices sequence length is longer than the specified maximum sequence length for this model (1174 > 512). Running this sequence through the model will result in indexing errors\n",
      "Token indices sequence length is longer than the specified maximum sequence length for this model (1174 > 512). Running this sequence through the model will result in indexing errors\n"
     ]
    },
    {
     "name": "stdout",
     "output_type": "stream",
     "text": [
      "36520: finished\n",
      "36520: starting process on GPU cuda:1\n",
      "kfold/output/regression-v2/fold_1\n"
     ]
    },
    {
     "name": "stderr",
     "output_type": "stream",
     "text": [
      "Token indices sequence length is longer than the specified maximum sequence length for this model (1082 > 512). Running this sequence through the model will result in indexing errors\n"
     ]
    },
    {
     "name": "stdout",
     "output_type": "stream",
     "text": [
      "36522: finished\n",
      "36522: starting process on GPU cuda:6\n",
      "kfold/output/deberta-mental-health-v3/fold_1\n",
      "36521: finished\n",
      "36521: starting process on GPU cuda:5\n",
      "kfold/output/oll-roberta-mental-health-v2-fixloss/fold_1\n",
      "36523: finished\n",
      "36523: starting process on GPU cuda:7\n",
      "kfold/output/roberta-large-v3-maxlen/fold_1\n"
     ]
    },
    {
     "name": "stderr",
     "output_type": "stream",
     "text": [
      "Token indices sequence length is longer than the specified maximum sequence length for this model (1082 > 512). Running this sequence through the model will result in indexing errors\n"
     ]
    },
    {
     "name": "stdout",
     "output_type": "stream",
     "text": [
      "36520: finished\n",
      "36520: starting process on GPU cuda:1\n",
      "kfold/output/deberta-large-v3-maxlen/fold_1\n",
      "36521: finished\n",
      "36521: starting process on GPU cuda:5\n",
      "kfold/output/roberta-mental-health-headtail-75/fold_1\n",
      "36523: finished\n",
      "36523: starting process on GPU cuda:7\n",
      "kfold/output/roberta-mental-health-headtail-0/fold_1\n"
     ]
    },
    {
     "name": "stderr",
     "output_type": "stream",
     "text": [
      "Token indices sequence length is longer than the specified maximum sequence length for this model (1082 > 512). Running this sequence through the model will result in indexing errors\n",
      "Token indices sequence length is longer than the specified maximum sequence length for this model (1082 > 512). Running this sequence through the model will result in indexing errors\n"
     ]
    },
    {
     "name": "stdout",
     "output_type": "stream",
     "text": [
      "36522: finished\n",
      "36522: starting process on GPU cuda:6\n",
      "kfold/output/roberta-mental-health-v3-maxlen/fold_1\n",
      "36521: finished\n",
      "36521: starting process on GPU cuda:5\n",
      "kfold/output/corn-roberta-mental-health-v2/fold_1\n",
      "36520: finished\n",
      "36520: starting process on GPU cuda:1\n",
      "kfold/output/roberta-mental-health-headtail-50/fold_1\n",
      "36523: finished\n",
      "36523: starting process on GPU cuda:7\n",
      "kfold/output/roberta-mental-health-headtail-25/fold_1\n"
     ]
    },
    {
     "name": "stderr",
     "output_type": "stream",
     "text": [
      "Token indices sequence length is longer than the specified maximum sequence length for this model (1082 > 512). Running this sequence through the model will result in indexing errors\n",
      "Token indices sequence length is longer than the specified maximum sequence length for this model (1082 > 512). Running this sequence through the model will result in indexing errors\n",
      "Token indices sequence length is longer than the specified maximum sequence length for this model (1082 > 512). Running this sequence through the model will result in indexing errors\n"
     ]
    },
    {
     "name": "stdout",
     "output_type": "stream",
     "text": [
      "36522: finished\n",
      "36522: starting process on GPU cuda:6\n",
      "kfold/output/roberta-mental-health-v6-labelsmoothing/fold_1\n"
     ]
    },
    {
     "name": "stderr",
     "output_type": "stream",
     "text": [
      "Token indices sequence length is longer than the specified maximum sequence length for this model (1082 > 512). Running this sequence through the model will result in indexing errors\n"
     ]
    },
    {
     "name": "stdout",
     "output_type": "stream",
     "text": [
      "36520: finished\n",
      "36520: starting process on GPU cuda:1\n",
      "kfold/output/regression-v2/fold_2\n",
      "36521: finished\n",
      "36521: starting process on GPU cuda:5\n",
      "kfold/output/deberta-mental-health-v3/fold_2\n",
      "36523: finished\n",
      "36523: starting process on GPU cuda:7\n",
      "kfold/output/oll-roberta-mental-health-v2-fixloss/fold_2\n"
     ]
    },
    {
     "name": "stderr",
     "output_type": "stream",
     "text": [
      "Token indices sequence length is longer than the specified maximum sequence length for this model (2203 > 512). Running this sequence through the model will result in indexing errors\n",
      "Token indices sequence length is longer than the specified maximum sequence length for this model (2203 > 512). Running this sequence through the model will result in indexing errors\n"
     ]
    },
    {
     "name": "stdout",
     "output_type": "stream",
     "text": [
      "36522: finished\n",
      "36522: starting process on GPU cuda:6\n",
      "kfold/output/roberta-large-v3-maxlen/fold_2\n",
      "36520: finished\n",
      "36520: starting process on GPU cuda:1\n",
      "kfold/output/deberta-large-v3-maxlen/fold_2\n",
      "36523: finished\n",
      "36523: starting process on GPU cuda:7\n",
      "kfold/output/roberta-mental-health-headtail-75/fold_2\n"
     ]
    },
    {
     "name": "stderr",
     "output_type": "stream",
     "text": [
      "Token indices sequence length is longer than the specified maximum sequence length for this model (2203 > 512). Running this sequence through the model will result in indexing errors\n"
     ]
    },
    {
     "name": "stdout",
     "output_type": "stream",
     "text": [
      "36522: finished\n",
      "36522: starting process on GPU cuda:6\n",
      "kfold/output/roberta-mental-health-headtail-0/fold_2\n"
     ]
    },
    {
     "name": "stderr",
     "output_type": "stream",
     "text": [
      "Token indices sequence length is longer than the specified maximum sequence length for this model (2203 > 512). Running this sequence through the model will result in indexing errors\n"
     ]
    },
    {
     "name": "stdout",
     "output_type": "stream",
     "text": [
      "36521: finished\n",
      "36521: starting process on GPU cuda:5\n",
      "kfold/output/roberta-mental-health-v3-maxlen/fold_2\n",
      "36523: finished\n",
      "36523: starting process on GPU cuda:7\n",
      "kfold/output/corn-roberta-mental-health-v2/fold_2\n"
     ]
    },
    {
     "name": "stderr",
     "output_type": "stream",
     "text": [
      "Token indices sequence length is longer than the specified maximum sequence length for this model (2203 > 512). Running this sequence through the model will result in indexing errors\n"
     ]
    },
    {
     "name": "stdout",
     "output_type": "stream",
     "text": [
      "36522: finished\n",
      "36522: starting process on GPU cuda:6\n",
      "kfold/output/roberta-mental-health-headtail-50/fold_2\n"
     ]
    },
    {
     "name": "stderr",
     "output_type": "stream",
     "text": [
      "Token indices sequence length is longer than the specified maximum sequence length for this model (2203 > 512). Running this sequence through the model will result in indexing errors\n"
     ]
    },
    {
     "name": "stdout",
     "output_type": "stream",
     "text": [
      "36520: finished\n",
      "36520: starting process on GPU cuda:1\n",
      "kfold/output/roberta-mental-health-headtail-25/fold_2\n",
      "36521: finished\n",
      "36521: starting process on GPU cuda:5\n",
      "kfold/output/roberta-mental-health-v6-labelsmoothing/fold_2\n"
     ]
    },
    {
     "name": "stderr",
     "output_type": "stream",
     "text": [
      "Token indices sequence length is longer than the specified maximum sequence length for this model (2203 > 512). Running this sequence through the model will result in indexing errors\n",
      "Token indices sequence length is longer than the specified maximum sequence length for this model (2203 > 512). Running this sequence through the model will result in indexing errors\n"
     ]
    },
    {
     "name": "stdout",
     "output_type": "stream",
     "text": [
      "36523: finished\n",
      "36523: starting process on GPU cuda:7\n",
      "kfold/output/regression-v2/fold_3\n"
     ]
    },
    {
     "name": "stderr",
     "output_type": "stream",
     "text": [
      "Token indices sequence length is longer than the specified maximum sequence length for this model (1512 > 512). Running this sequence through the model will result in indexing errors\n"
     ]
    },
    {
     "name": "stdout",
     "output_type": "stream",
     "text": [
      "36522: finished\n",
      "36522: starting process on GPU cuda:6\n",
      "kfold/output/deberta-mental-health-v3/fold_3\n",
      "36520: finished\n",
      "36520: starting process on GPU cuda:1\n",
      "kfold/output/oll-roberta-mental-health-v2-fixloss/fold_3\n"
     ]
    },
    {
     "name": "stderr",
     "output_type": "stream",
     "text": [
      "Token indices sequence length is longer than the specified maximum sequence length for this model (1512 > 512). Running this sequence through the model will result in indexing errors\n"
     ]
    },
    {
     "name": "stdout",
     "output_type": "stream",
     "text": [
      "36521: finished\n",
      "36521: starting process on GPU cuda:5\n",
      "kfold/output/roberta-large-v3-maxlen/fold_3\n",
      "36523: finished\n",
      "36523: starting process on GPU cuda:7\n",
      "kfold/output/deberta-large-v3-maxlen/fold_3\n",
      "36520: finished\n",
      "36520: starting process on GPU cuda:1\n",
      "kfold/output/roberta-mental-health-headtail-75/fold_3\n"
     ]
    },
    {
     "name": "stderr",
     "output_type": "stream",
     "text": [
      "Token indices sequence length is longer than the specified maximum sequence length for this model (1512 > 512). Running this sequence through the model will result in indexing errors\n"
     ]
    },
    {
     "name": "stdout",
     "output_type": "stream",
     "text": [
      "36521: finished\n",
      "36521: starting process on GPU cuda:5\n",
      "kfold/output/roberta-mental-health-headtail-0/fold_3\n"
     ]
    },
    {
     "name": "stderr",
     "output_type": "stream",
     "text": [
      "Token indices sequence length is longer than the specified maximum sequence length for this model (1512 > 512). Running this sequence through the model will result in indexing errors\n"
     ]
    },
    {
     "name": "stdout",
     "output_type": "stream",
     "text": [
      "36522: finished\n",
      "36522: starting process on GPU cuda:6\n",
      "kfold/output/roberta-mental-health-v3-maxlen/fold_3\n",
      "36520: finished\n",
      "36520: starting process on GPU cuda:1\n",
      "kfold/output/corn-roberta-mental-health-v2/fold_3\n"
     ]
    },
    {
     "name": "stderr",
     "output_type": "stream",
     "text": [
      "Token indices sequence length is longer than the specified maximum sequence length for this model (1512 > 512). Running this sequence through the model will result in indexing errors\n"
     ]
    },
    {
     "name": "stdout",
     "output_type": "stream",
     "text": [
      "36523: finished\n",
      "36523: starting process on GPU cuda:7\n",
      "kfold/output/roberta-mental-health-headtail-50/fold_3\n"
     ]
    },
    {
     "name": "stderr",
     "output_type": "stream",
     "text": [
      "Token indices sequence length is longer than the specified maximum sequence length for this model (1512 > 512). Running this sequence through the model will result in indexing errors\n"
     ]
    },
    {
     "name": "stdout",
     "output_type": "stream",
     "text": [
      "36521: finished\n",
      "36521: starting process on GPU cuda:5\n",
      "kfold/output/roberta-mental-health-headtail-25/fold_3\n"
     ]
    },
    {
     "name": "stderr",
     "output_type": "stream",
     "text": [
      "Token indices sequence length is longer than the specified maximum sequence length for this model (1512 > 512). Running this sequence through the model will result in indexing errors\n"
     ]
    },
    {
     "name": "stdout",
     "output_type": "stream",
     "text": [
      "36522: finished\n",
      "36522: starting process on GPU cuda:6\n",
      "kfold/output/roberta-mental-health-v6-labelsmoothing/fold_3\n"
     ]
    },
    {
     "name": "stderr",
     "output_type": "stream",
     "text": [
      "Token indices sequence length is longer than the specified maximum sequence length for this model (1512 > 512). Running this sequence through the model will result in indexing errors\n"
     ]
    },
    {
     "name": "stdout",
     "output_type": "stream",
     "text": [
      "36520: finished\n",
      "36523: finished\n",
      "36521: finished\n",
      "36522: finished\n"
     ]
    }
   ],
   "source": [
    "from multiprocessing import Pool, current_process, Queue\n",
    "\n",
    "NUM_GPUS = 4\n",
    "PROC_PER_GPU = 1    \n",
    "\n",
    "queue = Queue()\n",
    "\n",
    "data = []\n",
    "for fold in range(n_folds):\n",
    "    for model_name in model_names:\n",
    "        data.append((fold, model_name))\n",
    "        \n",
    "def foo(model_data):\n",
    "    device = queue.get()\n",
    "    #torch.multiprocessing.set_start_method('spawn')\n",
    "    #device = torch.device(f'cuda:{gpu_id}')\n",
    "    fold, model_name = model_data\n",
    "    try:\n",
    "        # run processing on GPU <gpu_id>\n",
    "        ident = current_process().ident\n",
    "        print('{}: starting process on GPU {}'.format(ident, device))\n",
    "        \n",
    "        if len(dev_outputs[model_name][fold]) > 0 and len(test_outputs[model_name][fold]) > 0:\n",
    "            print(f\"skipping {model_name}/fold_{fold}\")\n",
    "            return fold, model_name, dev_outputs[model_name][fold], test_outputs[model_name][fold]\n",
    "        \n",
    "        dev_df = pd.read_csv(f'./kfold/{fold}/dev_data.csv', encoding=\"utf8\")\n",
    "        dev_df['text data'] = dev_df['text data'].str.strip()\n",
    "        dev_texts = list(dev_df['text data'].values)\n",
    "        \n",
    "        model_path = os.path.join(models_path, model_name, 'fold_'+str(fold))\n",
    "        print(model_path)\n",
    "        \n",
    "        model, tokenizer = load_model(model_path)\n",
    "        model = model.to(device)\n",
    "        \n",
    "        dev_model_outputs = predict(dev_texts, model, tokenizer, batchsize=128, device=device)\n",
    "        #dev_outputs[model_name][fold].append(model_outputs)\n",
    "        \n",
    "        test_model_outputs = predict(test_texts, model, tokenizer, batchsize=128, device=device)\n",
    "        #test_outputs[model_name][fold].append(model_outputs)\n",
    "        \n",
    "        del model\n",
    "        gc.collect()\n",
    "        torch.cuda.empty_cache()\n",
    "        \n",
    "        print('{}: finished'.format(ident))\n",
    "        return fold, model_name, dev_model_outputs, test_model_outputs\n",
    "    finally:\n",
    "        queue.put(device)\n",
    "\n",
    "# initialize the queue with the GPU ids\n",
    "for gpu_id in [1,5,6,7]:\n",
    "    for _ in range(PROC_PER_GPU):\n",
    "        queue.put(torch.device(f'cuda:{gpu_id}'))\n",
    "\n",
    "pool = Pool(processes=PROC_PER_GPU * NUM_GPUS)\n",
    "for results in pool.imap_unordered(foo, data):\n",
    "    fold, model_name, dev_model_outputs, test_model_outputs = results\n",
    "    dev_outputs[model_name][fold] = dev_model_outputs\n",
    "    test_outputs[model_name][fold] = test_model_outputs\n",
    "pool.close()\n",
    "pool.join()"
   ]
  },
  {
   "cell_type": "code",
   "execution_count": 13,
   "id": "bbebbe48",
   "metadata": {},
   "outputs": [],
   "source": [
    "gc.collect()\n",
    "torch.cuda.empty_cache()"
   ]
  },
  {
   "cell_type": "code",
   "execution_count": 14,
   "id": "c499af5b",
   "metadata": {},
   "outputs": [],
   "source": [
    "\"\"\"\n",
    "import pickle\n",
    "with open('dev_outputs.pickle', 'wb') as f:\n",
    "    pickle.dump(dev_outputs, f)\n",
    "with open('test_outputs.pickle', 'wb') as f:\n",
    "    pickle.dump(test_outputs, f)\n",
    "\"\"\""
   ]
  },
  {
   "cell_type": "code",
   "execution_count": 26,
   "id": "328e4918",
   "metadata": {},
   "outputs": [],
   "source": [
    "import json\n",
    "model_scores = []\n",
    "temp_model_names = model_names.copy()\n",
    "model_names = []\n",
    "for model_name in temp_model_names:\n",
    "    results_path = os.path.join(models_path, model_name, 'mean_run_results.json')\n",
    "    if not os.path.exists(results_path) or 'class_weights' in model_name:\n",
    "        continue\n",
    "    model_names.append(model_name)\n",
    "    with open(results_path, 'r') as f:\n",
    "        results = json.load(f)\n",
    "    model_scores.append(results[\"eval_f1 (macro)\"])\n",
    "    #model_scores[model_name] = results[\"eval_f1 (macro)\"]\n",
    "model_scores = np.asarray(model_scores)"
   ]
  },
  {
   "cell_type": "code",
   "execution_count": 27,
   "id": "6accf304",
   "metadata": {},
   "outputs": [],
   "source": [
    "dev_y_true = []\n",
    "for fold in range(n_folds):\n",
    "    dev_df = pd.read_csv(f'./kfold/{fold}/dev_data.csv', encoding=\"utf8\")\n",
    "    y_true = dev_df['label'].map(label2id).values\n",
    "    dev_y_true.append(y_true)"
   ]
  },
  {
   "cell_type": "code",
   "execution_count": 33,
   "id": "fcbcff92",
   "metadata": {},
   "outputs": [
    {
     "name": "stdout",
     "output_type": "stream",
     "text": [
      "1\n",
      "2\n",
      "3\n",
      "4\n",
      "5\n",
      "6\n",
      "7\n",
      "8\n",
      "9\n",
      "10\n",
      "11\n",
      "12\n"
     ]
    }
   ],
   "source": [
    "score_sort = np.flip(model_scores.argsort())\n",
    "sorted_model_names = np.asarray(model_names)[score_sort]\n",
    "all_scores = []\n",
    "for i in range(len(score_sort)):\n",
    "    i = i+1\n",
    "    print(i)\n",
    "    for fold in range(n_folds):\n",
    "        y_true = dev_y_true[fold]\n",
    "        \n",
    "        selected_model_names = sorted_model_names[:i]\n",
    "        \n",
    "        preds = np.asarray([dev_outputs[model_name][fold][0] for model_name in selected_model_names])\n",
    "        soft_preds = np.asarray([dev_outputs[model_name][fold][1] for model_name in selected_model_names])\n",
    "        softmax = np.asarray([dev_outputs[model_name][fold][2] for model_name in selected_model_names])\n",
    "        logits = np.asarray([dev_outputs[model_name][fold][3] for model_name in selected_model_names])\n",
    "        \n",
    "        temp_results = {\n",
    "            \"softmax_mean_preds\": np.mean(softmax, axis=0).argmax(-1),\n",
    "            #\"softmax_max_preds\": np.max(softmax, axis=0).argmax(-1),\n",
    "            #\"logits_mean_preds\": np.mean(logits, axis=0).argmax(-1),\n",
    "            #\"logits_max_preds\": np.max(logits, axis=0).argmax(-1),\n",
    "            \"preds_mode\": stats.mode(preds, axis=0).mode[0],\n",
    "            \"preds_ordered_mean\": np.mean(preds, axis=0).round(),\n",
    "            #\"softmax_to_scalar_mean\": np.mean(soft_preds, axis=0).round()\n",
    "        }\n",
    "        i_scores = {'i': i, 'fold': fold}\n",
    "        for r in temp_results:\n",
    "            i_scores[r] = f1_score(y_true, temp_results[r], average=\"macro\")\n",
    "\n",
    "        all_scores.append(i_scores)"
   ]
  },
  {
   "cell_type": "code",
   "execution_count": 34,
   "id": "917ba4a8",
   "metadata": {},
   "outputs": [
    {
     "data": {
      "text/plain": [
       "i                     12.000000\n",
       "fold                   3.000000\n",
       "softmax_mean_preds     0.649661\n",
       "preds_mode             0.643666\n",
       "preds_ordered_mean     0.643123\n",
       "dtype: float64"
      ]
     },
     "execution_count": 34,
     "metadata": {},
     "output_type": "execute_result"
    }
   ],
   "source": [
    "import pandas as pd\n",
    "df_scores = pd.DataFrame(all_scores)\n",
    "df_scores.max().sort_values(ascending=False)"
   ]
  },
  {
   "cell_type": "code",
   "execution_count": 35,
   "id": "67ebeb31",
   "metadata": {},
   "outputs": [
    {
     "data": {
      "text/html": [
       "<div>\n",
       "<style scoped>\n",
       "    .dataframe tbody tr th:only-of-type {\n",
       "        vertical-align: middle;\n",
       "    }\n",
       "\n",
       "    .dataframe tbody tr th {\n",
       "        vertical-align: top;\n",
       "    }\n",
       "\n",
       "    .dataframe thead th {\n",
       "        text-align: right;\n",
       "    }\n",
       "</style>\n",
       "<table border=\"1\" class=\"dataframe\">\n",
       "  <thead>\n",
       "    <tr style=\"text-align: right;\">\n",
       "      <th></th>\n",
       "      <th>fold</th>\n",
       "      <th>softmax_mean_preds</th>\n",
       "      <th>preds_mode</th>\n",
       "      <th>preds_ordered_mean</th>\n",
       "    </tr>\n",
       "    <tr>\n",
       "      <th>i</th>\n",
       "      <th></th>\n",
       "      <th></th>\n",
       "      <th></th>\n",
       "      <th></th>\n",
       "    </tr>\n",
       "  </thead>\n",
       "  <tbody>\n",
       "    <tr>\n",
       "      <th>1</th>\n",
       "      <td>1.5</td>\n",
       "      <td>0.617868</td>\n",
       "      <td>0.617868</td>\n",
       "      <td>0.617868</td>\n",
       "    </tr>\n",
       "    <tr>\n",
       "      <th>2</th>\n",
       "      <td>1.5</td>\n",
       "      <td>0.619412</td>\n",
       "      <td>0.617320</td>\n",
       "      <td>0.615497</td>\n",
       "    </tr>\n",
       "    <tr>\n",
       "      <th>3</th>\n",
       "      <td>1.5</td>\n",
       "      <td>0.625724</td>\n",
       "      <td>0.625616</td>\n",
       "      <td>0.622821</td>\n",
       "    </tr>\n",
       "    <tr>\n",
       "      <th>4</th>\n",
       "      <td>1.5</td>\n",
       "      <td>0.626420</td>\n",
       "      <td>0.622458</td>\n",
       "      <td>0.622906</td>\n",
       "    </tr>\n",
       "    <tr>\n",
       "      <th>5</th>\n",
       "      <td>1.5</td>\n",
       "      <td>0.623963</td>\n",
       "      <td>0.623825</td>\n",
       "      <td>0.622210</td>\n",
       "    </tr>\n",
       "    <tr>\n",
       "      <th>6</th>\n",
       "      <td>1.5</td>\n",
       "      <td>0.624981</td>\n",
       "      <td>0.625049</td>\n",
       "      <td>0.622107</td>\n",
       "    </tr>\n",
       "    <tr>\n",
       "      <th>7</th>\n",
       "      <td>1.5</td>\n",
       "      <td>0.628342</td>\n",
       "      <td>0.628872</td>\n",
       "      <td>0.625932</td>\n",
       "    </tr>\n",
       "    <tr>\n",
       "      <th>8</th>\n",
       "      <td>1.5</td>\n",
       "      <td>0.627416</td>\n",
       "      <td>0.628599</td>\n",
       "      <td>0.627949</td>\n",
       "    </tr>\n",
       "    <tr>\n",
       "      <th>9</th>\n",
       "      <td>1.5</td>\n",
       "      <td>0.627623</td>\n",
       "      <td>0.630987</td>\n",
       "      <td>0.628563</td>\n",
       "    </tr>\n",
       "    <tr>\n",
       "      <th>10</th>\n",
       "      <td>1.5</td>\n",
       "      <td>0.627867</td>\n",
       "      <td>0.628945</td>\n",
       "      <td>0.626777</td>\n",
       "    </tr>\n",
       "    <tr>\n",
       "      <th>11</th>\n",
       "      <td>1.5</td>\n",
       "      <td>0.625788</td>\n",
       "      <td>0.627312</td>\n",
       "      <td>0.625665</td>\n",
       "    </tr>\n",
       "    <tr>\n",
       "      <th>12</th>\n",
       "      <td>1.5</td>\n",
       "      <td>0.625255</td>\n",
       "      <td>0.628122</td>\n",
       "      <td>0.626102</td>\n",
       "    </tr>\n",
       "  </tbody>\n",
       "</table>\n",
       "</div>"
      ],
      "text/plain": [
       "    fold  softmax_mean_preds  preds_mode  preds_ordered_mean\n",
       "i                                                           \n",
       "1    1.5            0.617868    0.617868            0.617868\n",
       "2    1.5            0.619412    0.617320            0.615497\n",
       "3    1.5            0.625724    0.625616            0.622821\n",
       "4    1.5            0.626420    0.622458            0.622906\n",
       "5    1.5            0.623963    0.623825            0.622210\n",
       "6    1.5            0.624981    0.625049            0.622107\n",
       "7    1.5            0.628342    0.628872            0.625932\n",
       "8    1.5            0.627416    0.628599            0.627949\n",
       "9    1.5            0.627623    0.630987            0.628563\n",
       "10   1.5            0.627867    0.628945            0.626777\n",
       "11   1.5            0.625788    0.627312            0.625665\n",
       "12   1.5            0.625255    0.628122            0.626102"
      ]
     },
     "execution_count": 35,
     "metadata": {},
     "output_type": "execute_result"
    }
   ],
   "source": [
    "df_scores.groupby('i').mean()"
   ]
  },
  {
   "cell_type": "code",
   "execution_count": 85,
   "id": "dd7e4272",
   "metadata": {},
   "outputs": [
    {
     "data": {
      "text/plain": [
       "<AxesSubplot:xlabel='Number of Models'>"
      ]
     },
     "execution_count": 85,
     "metadata": {},
     "output_type": "execute_result"
    },
    {
     "data": {
      "image/png": "[encoded data removed]",
      "text/plain": [
       "<Figure size 720x360 with 1 Axes>"
      ]
     },
     "metadata": {
      "needs_background": "light"
     },
     "output_type": "display_data"
    }
   ],
   "source": [
    "df_scores.groupby('i').mean().reset_index(drop=True) \\\n",
    "    .drop('fold', axis=1) \\\n",
    "    .rename(columns={'softmax_mean_preds': 'Softmax Mean',\n",
    "             'preds_ordered_mean': 'Mean', \n",
    "             'preds_mode': 'Voting'})\\\n",
    "    .rename_axis('Number of Models').plot(figsize=(10, 5), xticks=df_scores['i'].unique())"
   ]
  },
  {
   "cell_type": "code",
   "execution_count": 31,
   "id": "6a7376a2",
   "metadata": {},
   "outputs": [
    {
     "data": {
      "text/plain": [
       "fold                      1.500000\n",
       "preds_mode                0.625415\n",
       "softmax_mean_preds        0.625055\n",
       "logits_mean_preds         0.624508\n",
       "preds_ordered_mean        0.623700\n",
       "softmax_to_scalar_mean    0.621929\n",
       "logits_max_preds          0.618392\n",
       "softmax_max_preds         0.615026\n",
       "dtype: float64"
      ]
     },
     "execution_count": 31,
     "metadata": {},
     "output_type": "execute_result"
    }
   ],
   "source": [
    "df_scores.groupby('i').mean().mean().sort_values(ascending=False)"
   ]
  },
  {
   "cell_type": "code",
   "execution_count": 32,
   "id": "8c79fbb2",
   "metadata": {},
   "outputs": [
    {
     "data": {
      "text/plain": [
       "fold                      1.500000\n",
       "preds_mode                0.630987\n",
       "preds_ordered_mean        0.628563\n",
       "softmax_mean_preds        0.628342\n",
       "logits_mean_preds         0.627189\n",
       "softmax_max_preds         0.624583\n",
       "softmax_to_scalar_mean    0.623753\n",
       "logits_max_preds          0.621622\n",
       "dtype: float64"
      ]
     },
     "execution_count": 32,
     "metadata": {},
     "output_type": "execute_result"
    }
   ],
   "source": [
    "df_scores.groupby('i').mean().max().sort_values(ascending=False)"
   ]
  },
  {
   "cell_type": "code",
   "execution_count": 50,
   "id": "72da6596",
   "metadata": {},
   "outputs": [],
   "source": [
    "analysis_model_score = []\n",
    "for i, model_name in enumerate(sorted_model_names):\n",
    "    for fold in range(n_folds):\n",
    "        with open(os.path.join(models_path, model_name, f\"fold_{fold}\", 'all_results.json'), 'r') as f:\n",
    "            results = json.load(f)\n",
    "        analysis_model_score.append({'order': i, 'model_name': model_name, 'fold': fold, 'f1_macro': results[\"eval_f1 (macro)\"]})\n",
    "df_analysis = pd.DataFrame(analysis_model_score)"
   ]
  },
  {
   "cell_type": "code",
   "execution_count": 51,
   "id": "462b94ef",
   "metadata": {},
   "outputs": [],
   "source": [
    "min_dict = df_analysis.groupby(\"fold\")[\"f1_macro\"].min().to_dict()\n",
    "max_dict = df_analysis.groupby(\"fold\")[\"f1_macro\"].max().to_dict()\n",
    "df_analysis['f1_macro_norm'] = df_analysis.apply(lambda row: (row['f1_macro'] - min_dict[row['fold']])/(max_dict[row['fold']] - min_dict[row['fold']]), axis=1)"
   ]
  },
  {
   "cell_type": "code",
   "execution_count": 52,
   "id": "5882730d",
   "metadata": {},
   "outputs": [
    {
     "data": {
      "text/html": [
       "<div>\n",
       "<style scoped>\n",
       "    .dataframe tbody tr th:only-of-type {\n",
       "        vertical-align: middle;\n",
       "    }\n",
       "\n",
       "    .dataframe tbody tr th {\n",
       "        vertical-align: top;\n",
       "    }\n",
       "\n",
       "    .dataframe thead th {\n",
       "        text-align: right;\n",
       "    }\n",
       "</style>\n",
       "<table border=\"1\" class=\"dataframe\">\n",
       "  <thead>\n",
       "    <tr style=\"text-align: right;\">\n",
       "      <th></th>\n",
       "      <th>order</th>\n",
       "      <th>model_name</th>\n",
       "      <th>fold</th>\n",
       "      <th>f1_macro</th>\n",
       "      <th>f1_macro_norm</th>\n",
       "    </tr>\n",
       "  </thead>\n",
       "  <tbody>\n",
       "    <tr>\n",
       "      <th>0</th>\n",
       "      <td>0</td>\n",
       "      <td>roberta-mental-health-headtail-50</td>\n",
       "      <td>0</td>\n",
       "      <td>0.627637</td>\n",
       "      <td>1.000000</td>\n",
       "    </tr>\n",
       "    <tr>\n",
       "      <th>15</th>\n",
       "      <td>3</td>\n",
       "      <td>roberta-large-v3-maxlen</td>\n",
       "      <td>3</td>\n",
       "      <td>0.622300</td>\n",
       "      <td>1.000000</td>\n",
       "    </tr>\n",
       "    <tr>\n",
       "      <th>30</th>\n",
       "      <td>7</td>\n",
       "      <td>deberta-mental-health-v3</td>\n",
       "      <td>2</td>\n",
       "      <td>0.608772</td>\n",
       "      <td>1.000000</td>\n",
       "    </tr>\n",
       "    <tr>\n",
       "      <th>5</th>\n",
       "      <td>1</td>\n",
       "      <td>roberta-mental-health-headtail-25</td>\n",
       "      <td>1</td>\n",
       "      <td>0.635307</td>\n",
       "      <td>1.000000</td>\n",
       "    </tr>\n",
       "    <tr>\n",
       "      <th>18</th>\n",
       "      <td>4</td>\n",
       "      <td>roberta-mental-health-headtail-75</td>\n",
       "      <td>2</td>\n",
       "      <td>0.607931</td>\n",
       "      <td>0.965447</td>\n",
       "    </tr>\n",
       "    <tr>\n",
       "      <th>2</th>\n",
       "      <td>0</td>\n",
       "      <td>roberta-mental-health-headtail-50</td>\n",
       "      <td>2</td>\n",
       "      <td>0.606738</td>\n",
       "      <td>0.916430</td>\n",
       "    </tr>\n",
       "    <tr>\n",
       "      <th>17</th>\n",
       "      <td>4</td>\n",
       "      <td>roberta-mental-health-headtail-75</td>\n",
       "      <td>1</td>\n",
       "      <td>0.633013</td>\n",
       "      <td>0.915506</td>\n",
       "    </tr>\n",
       "    <tr>\n",
       "      <th>22</th>\n",
       "      <td>5</td>\n",
       "      <td>roberta-mental-health-v6-labelsmoothing</td>\n",
       "      <td>2</td>\n",
       "      <td>0.606556</td>\n",
       "      <td>0.908957</td>\n",
       "    </tr>\n",
       "    <tr>\n",
       "      <th>24</th>\n",
       "      <td>6</td>\n",
       "      <td>corn-roberta-mental-health-v2</td>\n",
       "      <td>0</td>\n",
       "      <td>0.624580</td>\n",
       "      <td>0.871162</td>\n",
       "    </tr>\n",
       "    <tr>\n",
       "      <th>4</th>\n",
       "      <td>1</td>\n",
       "      <td>roberta-mental-health-headtail-25</td>\n",
       "      <td>0</td>\n",
       "      <td>0.624477</td>\n",
       "      <td>0.866824</td>\n",
       "    </tr>\n",
       "    <tr>\n",
       "      <th>8</th>\n",
       "      <td>2</td>\n",
       "      <td>roberta-mental-health-v3-maxlen</td>\n",
       "      <td>0</td>\n",
       "      <td>0.623669</td>\n",
       "      <td>0.832767</td>\n",
       "    </tr>\n",
       "    <tr>\n",
       "      <th>35</th>\n",
       "      <td>8</td>\n",
       "      <td>regression-v2</td>\n",
       "      <td>3</td>\n",
       "      <td>0.617478</td>\n",
       "      <td>0.819772</td>\n",
       "    </tr>\n",
       "    <tr>\n",
       "      <th>1</th>\n",
       "      <td>0</td>\n",
       "      <td>roberta-mental-health-headtail-50</td>\n",
       "      <td>1</td>\n",
       "      <td>0.629858</td>\n",
       "      <td>0.799252</td>\n",
       "    </tr>\n",
       "    <tr>\n",
       "      <th>13</th>\n",
       "      <td>3</td>\n",
       "      <td>roberta-large-v3-maxlen</td>\n",
       "      <td>1</td>\n",
       "      <td>0.628583</td>\n",
       "      <td>0.752290</td>\n",
       "    </tr>\n",
       "    <tr>\n",
       "      <th>40</th>\n",
       "      <td>10</td>\n",
       "      <td>deberta-large-v3-maxlen</td>\n",
       "      <td>0</td>\n",
       "      <td>0.621525</td>\n",
       "      <td>0.742399</td>\n",
       "    </tr>\n",
       "    <tr>\n",
       "      <th>9</th>\n",
       "      <td>2</td>\n",
       "      <td>roberta-mental-health-v3-maxlen</td>\n",
       "      <td>1</td>\n",
       "      <td>0.627830</td>\n",
       "      <td>0.724556</td>\n",
       "    </tr>\n",
       "    <tr>\n",
       "      <th>25</th>\n",
       "      <td>6</td>\n",
       "      <td>corn-roberta-mental-health-v2</td>\n",
       "      <td>1</td>\n",
       "      <td>0.627189</td>\n",
       "      <td>0.700928</td>\n",
       "    </tr>\n",
       "    <tr>\n",
       "      <th>11</th>\n",
       "      <td>2</td>\n",
       "      <td>roberta-mental-health-v3-maxlen</td>\n",
       "      <td>3</td>\n",
       "      <td>0.612973</td>\n",
       "      <td>0.651402</td>\n",
       "    </tr>\n",
       "    <tr>\n",
       "      <th>21</th>\n",
       "      <td>5</td>\n",
       "      <td>roberta-mental-health-v6-labelsmoothing</td>\n",
       "      <td>1</td>\n",
       "      <td>0.625636</td>\n",
       "      <td>0.643723</td>\n",
       "    </tr>\n",
       "    <tr>\n",
       "      <th>10</th>\n",
       "      <td>2</td>\n",
       "      <td>roberta-mental-health-v3-maxlen</td>\n",
       "      <td>2</td>\n",
       "      <td>0.600028</td>\n",
       "      <td>0.640778</td>\n",
       "    </tr>\n",
       "    <tr>\n",
       "      <th>6</th>\n",
       "      <td>1</td>\n",
       "      <td>roberta-mental-health-headtail-25</td>\n",
       "      <td>2</td>\n",
       "      <td>0.599996</td>\n",
       "      <td>0.639478</td>\n",
       "    </tr>\n",
       "    <tr>\n",
       "      <th>37</th>\n",
       "      <td>9</td>\n",
       "      <td>roberta-mental-health-headtail-0</td>\n",
       "      <td>1</td>\n",
       "      <td>0.624962</td>\n",
       "      <td>0.618894</td>\n",
       "    </tr>\n",
       "    <tr>\n",
       "      <th>34</th>\n",
       "      <td>8</td>\n",
       "      <td>regression-v2</td>\n",
       "      <td>2</td>\n",
       "      <td>0.597108</td>\n",
       "      <td>0.520830</td>\n",
       "    </tr>\n",
       "    <tr>\n",
       "      <th>7</th>\n",
       "      <td>1</td>\n",
       "      <td>roberta-mental-health-headtail-25</td>\n",
       "      <td>3</td>\n",
       "      <td>0.608471</td>\n",
       "      <td>0.483118</td>\n",
       "    </tr>\n",
       "    <tr>\n",
       "      <th>23</th>\n",
       "      <td>5</td>\n",
       "      <td>roberta-mental-health-v6-labelsmoothing</td>\n",
       "      <td>3</td>\n",
       "      <td>0.608422</td>\n",
       "      <td>0.481294</td>\n",
       "    </tr>\n",
       "    <tr>\n",
       "      <th>3</th>\n",
       "      <td>0</td>\n",
       "      <td>roberta-mental-health-headtail-50</td>\n",
       "      <td>3</td>\n",
       "      <td>0.606771</td>\n",
       "      <td>0.419591</td>\n",
       "    </tr>\n",
       "    <tr>\n",
       "      <th>12</th>\n",
       "      <td>3</td>\n",
       "      <td>roberta-large-v3-maxlen</td>\n",
       "      <td>0</td>\n",
       "      <td>0.613863</td>\n",
       "      <td>0.419499</td>\n",
       "    </tr>\n",
       "    <tr>\n",
       "      <th>45</th>\n",
       "      <td>11</td>\n",
       "      <td>oll-roberta-mental-health-v2-fixloss</td>\n",
       "      <td>1</td>\n",
       "      <td>0.618172</td>\n",
       "      <td>0.368740</td>\n",
       "    </tr>\n",
       "    <tr>\n",
       "      <th>28</th>\n",
       "      <td>7</td>\n",
       "      <td>deberta-mental-health-v3</td>\n",
       "      <td>0</td>\n",
       "      <td>0.612427</td>\n",
       "      <td>0.359006</td>\n",
       "    </tr>\n",
       "    <tr>\n",
       "      <th>43</th>\n",
       "      <td>10</td>\n",
       "      <td>deberta-large-v3-maxlen</td>\n",
       "      <td>3</td>\n",
       "      <td>0.604054</td>\n",
       "      <td>0.318052</td>\n",
       "    </tr>\n",
       "    <tr>\n",
       "      <th>39</th>\n",
       "      <td>9</td>\n",
       "      <td>roberta-mental-health-headtail-0</td>\n",
       "      <td>3</td>\n",
       "      <td>0.603944</td>\n",
       "      <td>0.313936</td>\n",
       "    </tr>\n",
       "    <tr>\n",
       "      <th>20</th>\n",
       "      <td>5</td>\n",
       "      <td>roberta-mental-health-v6-labelsmoothing</td>\n",
       "      <td>0</td>\n",
       "      <td>0.611121</td>\n",
       "      <td>0.303965</td>\n",
       "    </tr>\n",
       "    <tr>\n",
       "      <th>16</th>\n",
       "      <td>4</td>\n",
       "      <td>roberta-mental-health-headtail-75</td>\n",
       "      <td>0</td>\n",
       "      <td>0.610484</td>\n",
       "      <td>0.277117</td>\n",
       "    </tr>\n",
       "    <tr>\n",
       "      <th>19</th>\n",
       "      <td>4</td>\n",
       "      <td>roberta-mental-health-headtail-75</td>\n",
       "      <td>3</td>\n",
       "      <td>0.602016</td>\n",
       "      <td>0.241864</td>\n",
       "    </tr>\n",
       "    <tr>\n",
       "      <th>38</th>\n",
       "      <td>9</td>\n",
       "      <td>roberta-mental-health-headtail-0</td>\n",
       "      <td>2</td>\n",
       "      <td>0.590250</td>\n",
       "      <td>0.239147</td>\n",
       "    </tr>\n",
       "    <tr>\n",
       "      <th>14</th>\n",
       "      <td>3</td>\n",
       "      <td>roberta-large-v3-maxlen</td>\n",
       "      <td>2</td>\n",
       "      <td>0.590164</td>\n",
       "      <td>0.235604</td>\n",
       "    </tr>\n",
       "    <tr>\n",
       "      <th>44</th>\n",
       "      <td>11</td>\n",
       "      <td>oll-roberta-mental-health-v2-fixloss</td>\n",
       "      <td>0</td>\n",
       "      <td>0.608774</td>\n",
       "      <td>0.205037</td>\n",
       "    </tr>\n",
       "    <tr>\n",
       "      <th>47</th>\n",
       "      <td>11</td>\n",
       "      <td>oll-roberta-mental-health-v2-fixloss</td>\n",
       "      <td>3</td>\n",
       "      <td>0.600715</td>\n",
       "      <td>0.193230</td>\n",
       "    </tr>\n",
       "    <tr>\n",
       "      <th>27</th>\n",
       "      <td>6</td>\n",
       "      <td>corn-roberta-mental-health-v2</td>\n",
       "      <td>3</td>\n",
       "      <td>0.600497</td>\n",
       "      <td>0.185084</td>\n",
       "    </tr>\n",
       "    <tr>\n",
       "      <th>29</th>\n",
       "      <td>7</td>\n",
       "      <td>deberta-mental-health-v3</td>\n",
       "      <td>1</td>\n",
       "      <td>0.611232</td>\n",
       "      <td>0.113077</td>\n",
       "    </tr>\n",
       "    <tr>\n",
       "      <th>42</th>\n",
       "      <td>10</td>\n",
       "      <td>deberta-large-v3-maxlen</td>\n",
       "      <td>2</td>\n",
       "      <td>0.587105</td>\n",
       "      <td>0.109947</td>\n",
       "    </tr>\n",
       "    <tr>\n",
       "      <th>36</th>\n",
       "      <td>9</td>\n",
       "      <td>roberta-mental-health-headtail-0</td>\n",
       "      <td>0</td>\n",
       "      <td>0.606421</td>\n",
       "      <td>0.105865</td>\n",
       "    </tr>\n",
       "    <tr>\n",
       "      <th>46</th>\n",
       "      <td>11</td>\n",
       "      <td>oll-roberta-mental-health-v2-fixloss</td>\n",
       "      <td>2</td>\n",
       "      <td>0.585977</td>\n",
       "      <td>0.063632</td>\n",
       "    </tr>\n",
       "    <tr>\n",
       "      <th>33</th>\n",
       "      <td>8</td>\n",
       "      <td>regression-v2</td>\n",
       "      <td>1</td>\n",
       "      <td>0.608230</td>\n",
       "      <td>0.002473</td>\n",
       "    </tr>\n",
       "    <tr>\n",
       "      <th>26</th>\n",
       "      <td>6</td>\n",
       "      <td>corn-roberta-mental-health-v2</td>\n",
       "      <td>2</td>\n",
       "      <td>0.584428</td>\n",
       "      <td>0.000000</td>\n",
       "    </tr>\n",
       "    <tr>\n",
       "      <th>41</th>\n",
       "      <td>10</td>\n",
       "      <td>deberta-large-v3-maxlen</td>\n",
       "      <td>1</td>\n",
       "      <td>0.608163</td>\n",
       "      <td>0.000000</td>\n",
       "    </tr>\n",
       "    <tr>\n",
       "      <th>32</th>\n",
       "      <td>8</td>\n",
       "      <td>regression-v2</td>\n",
       "      <td>0</td>\n",
       "      <td>0.603909</td>\n",
       "      <td>0.000000</td>\n",
       "    </tr>\n",
       "    <tr>\n",
       "      <th>31</th>\n",
       "      <td>7</td>\n",
       "      <td>deberta-mental-health-v3</td>\n",
       "      <td>3</td>\n",
       "      <td>0.595545</td>\n",
       "      <td>0.000000</td>\n",
       "    </tr>\n",
       "  </tbody>\n",
       "</table>\n",
       "</div>"
      ],
      "text/plain": [
       "    order                               model_name  fold  f1_macro  \\\n",
       "0       0        roberta-mental-health-headtail-50     0  0.627637   \n",
       "15      3                  roberta-large-v3-maxlen     3  0.622300   \n",
       "30      7                 deberta-mental-health-v3     2  0.608772   \n",
       "5       1        roberta-mental-health-headtail-25     1  0.635307   \n",
       "18      4        roberta-mental-health-headtail-75     2  0.607931   \n",
       "2       0        roberta-mental-health-headtail-50     2  0.606738   \n",
       "17      4        roberta-mental-health-headtail-75     1  0.633013   \n",
       "22      5  roberta-mental-health-v6-labelsmoothing     2  0.606556   \n",
       "24      6            corn-roberta-mental-health-v2     0  0.624580   \n",
       "4       1        roberta-mental-health-headtail-25     0  0.624477   \n",
       "8       2          roberta-mental-health-v3-maxlen     0  0.623669   \n",
       "35      8                            regression-v2     3  0.617478   \n",
       "1       0        roberta-mental-health-headtail-50     1  0.629858   \n",
       "13      3                  roberta-large-v3-maxlen     1  0.628583   \n",
       "40     10                  deberta-large-v3-maxlen     0  0.621525   \n",
       "9       2          roberta-mental-health-v3-maxlen     1  0.627830   \n",
       "25      6            corn-roberta-mental-health-v2     1  0.627189   \n",
       "11      2          roberta-mental-health-v3-maxlen     3  0.612973   \n",
       "21      5  roberta-mental-health-v6-labelsmoothing     1  0.625636   \n",
       "10      2          roberta-mental-health-v3-maxlen     2  0.600028   \n",
       "6       1        roberta-mental-health-headtail-25     2  0.599996   \n",
       "37      9         roberta-mental-health-headtail-0     1  0.624962   \n",
       "34      8                            regression-v2     2  0.597108   \n",
       "7       1        roberta-mental-health-headtail-25     3  0.608471   \n",
       "23      5  roberta-mental-health-v6-labelsmoothing     3  0.608422   \n",
       "3       0        roberta-mental-health-headtail-50     3  0.606771   \n",
       "12      3                  roberta-large-v3-maxlen     0  0.613863   \n",
       "45     11     oll-roberta-mental-health-v2-fixloss     1  0.618172   \n",
       "28      7                 deberta-mental-health-v3     0  0.612427   \n",
       "43     10                  deberta-large-v3-maxlen     3  0.604054   \n",
       "39      9         roberta-mental-health-headtail-0     3  0.603944   \n",
       "20      5  roberta-mental-health-v6-labelsmoothing     0  0.611121   \n",
       "16      4        roberta-mental-health-headtail-75     0  0.610484   \n",
       "19      4        roberta-mental-health-headtail-75     3  0.602016   \n",
       "38      9         roberta-mental-health-headtail-0     2  0.590250   \n",
       "14      3                  roberta-large-v3-maxlen     2  0.590164   \n",
       "44     11     oll-roberta-mental-health-v2-fixloss     0  0.608774   \n",
       "47     11     oll-roberta-mental-health-v2-fixloss     3  0.600715   \n",
       "27      6            corn-roberta-mental-health-v2     3  0.600497   \n",
       "29      7                 deberta-mental-health-v3     1  0.611232   \n",
       "42     10                  deberta-large-v3-maxlen     2  0.587105   \n",
       "36      9         roberta-mental-health-headtail-0     0  0.606421   \n",
       "46     11     oll-roberta-mental-health-v2-fixloss     2  0.585977   \n",
       "33      8                            regression-v2     1  0.608230   \n",
       "26      6            corn-roberta-mental-health-v2     2  0.584428   \n",
       "41     10                  deberta-large-v3-maxlen     1  0.608163   \n",
       "32      8                            regression-v2     0  0.603909   \n",
       "31      7                 deberta-mental-health-v3     3  0.595545   \n",
       "\n",
       "    f1_macro_norm  \n",
       "0        1.000000  \n",
       "15       1.000000  \n",
       "30       1.000000  \n",
       "5        1.000000  \n",
       "18       0.965447  \n",
       "2        0.916430  \n",
       "17       0.915506  \n",
       "22       0.908957  \n",
       "24       0.871162  \n",
       "4        0.866824  \n",
       "8        0.832767  \n",
       "35       0.819772  \n",
       "1        0.799252  \n",
       "13       0.752290  \n",
       "40       0.742399  \n",
       "9        0.724556  \n",
       "25       0.700928  \n",
       "11       0.651402  \n",
       "21       0.643723  \n",
       "10       0.640778  \n",
       "6        0.639478  \n",
       "37       0.618894  \n",
       "34       0.520830  \n",
       "7        0.483118  \n",
       "23       0.481294  \n",
       "3        0.419591  \n",
       "12       0.419499  \n",
       "45       0.368740  \n",
       "28       0.359006  \n",
       "43       0.318052  \n",
       "39       0.313936  \n",
       "20       0.303965  \n",
       "16       0.277117  \n",
       "19       0.241864  \n",
       "38       0.239147  \n",
       "14       0.235604  \n",
       "44       0.205037  \n",
       "47       0.193230  \n",
       "27       0.185084  \n",
       "29       0.113077  \n",
       "42       0.109947  \n",
       "36       0.105865  \n",
       "46       0.063632  \n",
       "33       0.002473  \n",
       "26       0.000000  \n",
       "41       0.000000  \n",
       "32       0.000000  \n",
       "31       0.000000  "
      ]
     },
     "execution_count": 52,
     "metadata": {},
     "output_type": "execute_result"
    }
   ],
   "source": [
    "df_analysis.sort_values([\"f1_macro_norm\"], ascending=False)"
   ]
  },
  {
   "cell_type": "code",
   "execution_count": 53,
   "id": "c36d29ab",
   "metadata": {},
   "outputs": [],
   "source": [
    "import plotly\n",
    "import plotly.express as px\n",
    "\n",
    "fig = px.scatter(df_analysis, x=\"fold\", y=\"f1_macro_norm\", color=\"model_name\")\n",
    "plotly.io.write_image(fig, 'output_file.pdf', format='pdf')"
   ]
  },
  {
   "cell_type": "code",
   "execution_count": 127,
   "id": "fc97f289",
   "metadata": {},
   "outputs": [],
   "source": [
    "i = 9\n",
    "mean_preds = []\n",
    "mode_preds = []\n",
    "all_preds = []\n",
    "mean_softmaxs = []\n",
    "mean_logits = []\n",
    "selected_model_names = sorted_model_names[:i]\n",
    "for model_name in selected_model_names:\n",
    "    fold_preds = np.asarray([test_outputs[model_name][fold][0] for fold in range(n_folds)])\n",
    "    fold_softmaxs = np.asarray([test_outputs[model_name][fold][2] for fold in range(n_folds)])\n",
    "    fold_logits = np.asarray([test_outputs[model_name][fold][3] for fold in range(n_folds)])\n",
    "    all_preds.extend(fold_preds)\n",
    "    model_mod_preds = stats.mode(fold_preds, axis=0).mode[0]\n",
    "    mode_preds.append(model_mod_preds)\n",
    "    model_mean_preds = np.mean(fold_preds, axis=0).round()\n",
    "    mean_preds.append(model_mean_preds)\n",
    "    mean_softmax = np.mean(fold_softmaxs, axis=0)\n",
    "    mean_softmaxs.append(mean_softmax)\n",
    "    mean_logit = np.mean(fold_logits, axis=0)\n",
    "    mean_logits.append(mean_logit)\n",
    "preds = np.asarray(preds)"
   ]
  },
  {
   "cell_type": "code",
   "execution_count": 128,
   "id": "dceff04b",
   "metadata": {},
   "outputs": [],
   "source": [
    "results = {\n",
    "    \"best_model_mode\": mode_preds[0],\n",
    "    \"best_model_mean\": mean_preds[0],\n",
    "    \"best_model_softmax\": mean_softmaxs[0].argmax(axis=1),\n",
    "    \"best_model_logits\": mean_logits[0].argmax(axis=1),\n",
    "    \"best_model_fold1_preds\": test_outputs[selected_model_names[0]][3][0],\n",
    "    \"s1_model_mode\": mode_preds[3],\n",
    "    \"s1_model_mean\": mean_preds[3],\n",
    "    \"s1_model_softmax\": mean_softmaxs[3].argmax(axis=1),\n",
    "    #\"mode_mode\": stats.mode(mode_preds, axis=0).mode[0],\n",
    "    \"mode_mean\": stats.mode(mean_preds, axis=0).mode[0],\n",
    "    \"mode_all\": stats.mode(all_preds, axis=0).mode[0],\n",
    "    \"softmax_all\": np.mean(mean_softmaxs, axis=0).argmax(axis=1),\n",
    "    #\"mean_mode\": np.mean(mode_preds, axis=0).round(),\n",
    "    #\"mean_mean\": np.mean(mean_preds, axis=0).round(),\n",
    "    #\"mean_all\": np.mean(all_preds, axis=0).round(),\n",
    "}"
   ]
  },
  {
   "cell_type": "code",
   "execution_count": 129,
   "id": "4d8110c6",
   "metadata": {},
   "outputs": [
    {
     "data": {
      "text/plain": [
       "{'best_model_mode': 0.4634765971078402,\n",
       " 'best_model_mean': 0.4678242848916388,\n",
       " 'best_model_softmax': 0.49153318277165753,\n",
       " 'best_model_logits': 0.48775718862675377,\n",
       " 'best_model_fold1_preds': 0.4765829224325954,\n",
       " 's1_model_mode': 0.4479995191360986,\n",
       " 's1_model_mean': 0.44971944372792727,\n",
       " 's1_model_softmax': 0.45046604302135335,\n",
       " 'mode_mean': 0.4435152053234326,\n",
       " 'mode_all': 0.4512634212924254,\n",
       " 'softmax_all': 0.4667614051510344}"
      ]
     },
     "execution_count": 129,
     "metadata": {},
     "output_type": "execute_result"
    }
   ],
   "source": [
    "i_scores = {}\n",
    "test_y_true = test_df['Label'].map(label2id).values\n",
    "for r in results:\n",
    "    i_scores[r] = f1_score(test_y_true, results[r], average=\"macro\")\n",
    "i_scores"
   ]
  },
  {
   "cell_type": "code",
   "execution_count": 56,
   "id": "190492fb",
   "metadata": {},
   "outputs": [],
   "source": [
    "pairs = set()\n",
    "for k1 in results.keys():\n",
    "    for k2 in results.keys():\n",
    "        if k1 == k2:\n",
    "            continue\n",
    "        key_pair = frozenset([k1, k2])\n",
    "        pairs.add(key_pair)"
   ]
  },
  {
   "cell_type": "code",
   "execution_count": 58,
   "id": "3d9c2b31",
   "metadata": {},
   "outputs": [
    {
     "name": "stdout",
     "output_type": "stream",
     "text": [
      "best_model_mean mode_all 39\n",
      "mode_all mode_mean 30\n",
      "best_model_mean mode_mean 31\n"
     ]
    }
   ],
   "source": [
    "for pair in pairs:\n",
    "    pair = list(pair)\n",
    "    print(pair[0], pair[1], (results[pair[0]] != results[pair[1]]).sum())"
   ]
  },
  {
   "cell_type": "code",
   "execution_count": 139,
   "id": "1d2c824c",
   "metadata": {},
   "outputs": [],
   "source": [
    "results = {\n",
    "    #\"BestModel\": mode_preds[0],\n",
    "    \"BestModel4Mean\": mean_preds[0],\n",
    "    #\"KFoldMode\": stats.mode(mode_preds, axis=0).mode[0],\n",
    "    \"KFoldMean9Mode\": stats.mode(mean_preds, axis=0).mode[0],\n",
    "    \"All36Mode\": stats.mode(all_preds, axis=0).mode[0],\n",
    "    #\"mean_mode\": np.mean(mode_preds, axis=0).round(),\n",
    "    #\"mean_mean\": np.mean(mean_preds, axis=0).round(),\n",
    "    #\"mean_all\": np.mean(all_preds, axis=0).round(),\n",
    "}\n",
    "\n",
    "for name, preds_model in results.items():\n",
    "    sub_df = test_df.copy()\n",
    "    sub_df['class_label'] = preds_model\n",
    "    sub_df['class_label'] = sub_df['class_label'].map(id2label)\n",
    "    sub_df['pid'] = sub_df['Pid']\n",
    "    sub_df.to_csv(os.path.join('submissions', name+'_v2.csv'), index=False)\n",
    "    sub_df[['pid', 'class_label']].to_csv(os.path.join('submissions', 'DeepLearningBrasil_'+name+'_v2.tsv'), sep='\\t', index=False)"
   ]
  },
  {
   "cell_type": "code",
   "execution_count": 69,
   "id": "f6b490fa",
   "metadata": {},
   "outputs": [
    {
     "data": {
      "text/plain": [
       "29"
      ]
     },
     "execution_count": 69,
     "metadata": {},
     "output_type": "execute_result"
    }
   ],
   "source": [
    "(results[\"best_model\"] != results[\"mode\"]).sum()"
   ]
  },
  {
   "cell_type": "code",
   "execution_count": 68,
   "id": "cb90022a",
   "metadata": {},
   "outputs": [
    {
     "data": {
      "text/plain": [
       "34"
      ]
     },
     "execution_count": 68,
     "metadata": {},
     "output_type": "execute_result"
    }
   ],
   "source": [
    "(results[\"best_model\"] != results[\"mode_all\"]).sum()"
   ]
  },
  {
   "cell_type": "code",
   "execution_count": 67,
   "id": "538d47d2",
   "metadata": {},
   "outputs": [
    {
     "data": {
      "text/plain": [
       "27"
      ]
     },
     "execution_count": 67,
     "metadata": {},
     "output_type": "execute_result"
    }
   ],
   "source": [
    "(results[\"mode_all\"] != results[\"mode\"]).sum()"
   ]
  },
  {
   "cell_type": "code",
   "execution_count": 15,
   "id": "09f5286b",
   "metadata": {},
   "outputs": [],
   "source": [
    "def ordered_mean(preds):\n",
    "    #map_ordered = {0:1, 1:0, 2:2}\n",
    "    #unmap_ordered = {1:0, 0:1, 2:2}\n",
    "    \n",
    "    pred_ordered = preds#np.vectorize(lambda x: map_ordered[x])(preds)\n",
    "    pred_ordered_mean = np.mean(pred_ordered, axis=0).round()\n",
    "    #pred_ordered_mean_unmap = np.vectorize(lambda x: unmap_ordered[x])(pred_ordered_mean)\n",
    "    return pred_ordered\n",
    "\n",
    "def softmax_to_scalar_mean(softmax):\n",
    "    #[0.7, 0.1, 0.2] -> (0 + 0.1 + 0.2) -> 0.3\n",
    "    #[0.1, 0.7, 0.2] -> (1 - 0.1 + 0.2) -> 1.1\n",
    "    #[0.1, 0.2, 0.7] -> (2 - 0.1 - 0.2) -> 1.7\n",
    "    \n",
    "    #[0.49, 0.0, 0.51] -> (2 - 0.49 - 0.0) -> 1.51 .round() -> 2\n",
    "    #map_ordered = [1,0,2]\n",
    "    #unmap_ordered = {1:0, 0:1, 2:2}\n",
    "    dist_mask = np.array([\n",
    "        [0, 1, 1],\n",
    "        [-1, 0, 1],\n",
    "        [-1, -1, 0]\n",
    "    ])\n",
    "    \n",
    "    #map_ordered = [1,0,2]\n",
    "    softmax_ordered = softmax#[:, :, map_ordered]\n",
    "    preds_ordered = softmax_ordered.argmax(-1)\n",
    "    scalar_labels = preds_ordered + np.sum(dist_mask[preds_ordered] * softmax_ordered, axis=-1)\n",
    "    scalar_labels_mean = np.mean(scalar_labels, axis=0).round()\n",
    "    #scalar_labels_mean_unmap = np.vectorize(lambda x: unmap_ordered[x])(scalar_labels_mean)\n",
    "    return scalar_labels_mean#_unmap"
   ]
  },
  {
   "cell_type": "code",
   "execution_count": 16,
   "id": "005ff415",
   "metadata": {},
   "outputs": [
    {
     "name": "stdout",
     "output_type": "stream",
     "text": [
      "1\n",
      "2\n",
      "3\n",
      "4\n",
      "5\n",
      "6\n",
      "7\n",
      "8\n",
      "9\n",
      "10\n",
      "11\n",
      "12\n"
     ]
    }
   ],
   "source": [
    "score_sort = np.flip(model_scores.argsort())\n",
    "all_scores = []\n",
    "for i in range(len(score_sort)):\n",
    "    i = i+1\n",
    "    print(i)\n",
    "    temp_results = {\n",
    "        \"softmax_mean_preds\": np.mean(softmax[score_sort][:i], axis=0).argmax(-1),\n",
    "        \"softmax_max_preds\": np.max(softmax[score_sort][:i], axis=0).argmax(-1),\n",
    "        \"logits_mean_preds\": np.mean(logits[score_sort][:i], axis=0).argmax(-1),\n",
    "        \"logits_max_preds\": np.max(logits[score_sort][:i], axis=0).argmax(-1),\n",
    "        \"preds_mode\": stats.mode(preds[score_sort][:i], axis=0).mode[0],\n",
    "        \"preds_ordered_mean\": np.mean(preds[score_sort][:i], axis=0).round(),\n",
    "        \"softmax_to_scalar_mean\": np.mean(soft_preds[score_sort][:i], axis=0).round()\n",
    "    }\n",
    "    i_scores = {'i': i}\n",
    "    for r in temp_results:\n",
    "        i_scores[r] = f1_score(y_true, temp_results[r], average=\"macro\")\n",
    "    \n",
    "    all_scores.append(i_scores)"
   ]
  },
  {
   "cell_type": "code",
   "execution_count": 17,
   "id": "035cad31",
   "metadata": {},
   "outputs": [
    {
     "data": {
      "text/plain": [
       "0"
      ]
     },
     "execution_count": 17,
     "metadata": {},
     "output_type": "execute_result"
    }
   ],
   "source": [
    "(preds[score_sort[0]] != soft_preds[score_sort[0]].round()).sum()"
   ]
  },
  {
   "cell_type": "code",
   "execution_count": 18,
   "id": "327b63e1",
   "metadata": {},
   "outputs": [
    {
     "data": {
      "text/plain": [
       "array([], dtype=int64)"
      ]
     },
     "execution_count": 18,
     "metadata": {},
     "output_type": "execute_result"
    }
   ],
   "source": [
    "preds[score_sort[0]][(preds[score_sort[0]] != soft_preds[score_sort[0]].round())]"
   ]
  },
  {
   "cell_type": "code",
   "execution_count": 19,
   "id": "ef5fc972",
   "metadata": {},
   "outputs": [
    {
     "data": {
      "text/plain": [
       "array([], dtype=float64)"
      ]
     },
     "execution_count": 19,
     "metadata": {},
     "output_type": "execute_result"
    }
   ],
   "source": [
    "soft_preds[score_sort[0]][(preds[score_sort[0]] != soft_preds[score_sort[0]].round())]"
   ]
  },
  {
   "cell_type": "code",
   "execution_count": 20,
   "id": "48a05494",
   "metadata": {},
   "outputs": [
    {
     "data": {
      "text/plain": [
       "i                         12.000000\n",
       "preds_ordered_mean         0.616459\n",
       "preds_mode                 0.613477\n",
       "softmax_to_scalar_mean     0.605563\n",
       "softmax_mean_preds         0.604406\n",
       "logits_mean_preds          0.602459\n",
       "logits_max_preds           0.595776\n",
       "softmax_max_preds          0.593982\n",
       "dtype: float64"
      ]
     },
     "execution_count": 20,
     "metadata": {},
     "output_type": "execute_result"
    }
   ],
   "source": [
    "import pandas as pd\n",
    "df_scores = pd.DataFrame(all_scores)\n",
    "df_scores.max().sort_values(ascending=False)"
   ]
  },
  {
   "cell_type": "code",
   "execution_count": 24,
   "id": "7e72656d",
   "metadata": {},
   "outputs": [
    {
     "data": {
      "text/plain": [
       "i                         6.500000\n",
       "preds_ordered_mean        0.605867\n",
       "preds_mode                0.603373\n",
       "softmax_to_scalar_mean    0.601801\n",
       "softmax_mean_preds        0.598653\n",
       "logits_mean_preds         0.597429\n",
       "softmax_max_preds         0.589351\n",
       "logits_max_preds          0.584376\n",
       "dtype: float64"
      ]
     },
     "execution_count": 24,
     "metadata": {},
     "output_type": "execute_result"
    }
   ],
   "source": [
    "df_scores.mean().sort_values(ascending=False)"
   ]
  },
  {
   "cell_type": "code",
   "execution_count": 21,
   "id": "61aab4a3",
   "metadata": {},
   "outputs": [
    {
     "data": {
      "text/html": [
       "<div>\n",
       "<style scoped>\n",
       "    .dataframe tbody tr th:only-of-type {\n",
       "        vertical-align: middle;\n",
       "    }\n",
       "\n",
       "    .dataframe tbody tr th {\n",
       "        vertical-align: top;\n",
       "    }\n",
       "\n",
       "    .dataframe thead th {\n",
       "        text-align: right;\n",
       "    }\n",
       "</style>\n",
       "<table border=\"1\" class=\"dataframe\">\n",
       "  <thead>\n",
       "    <tr style=\"text-align: right;\">\n",
       "      <th></th>\n",
       "      <th>i</th>\n",
       "      <th>softmax_mean_preds</th>\n",
       "      <th>softmax_max_preds</th>\n",
       "      <th>logits_mean_preds</th>\n",
       "      <th>logits_max_preds</th>\n",
       "      <th>preds_mode</th>\n",
       "      <th>preds_ordered_mean</th>\n",
       "      <th>softmax_to_scalar_mean</th>\n",
       "    </tr>\n",
       "  </thead>\n",
       "  <tbody>\n",
       "    <tr>\n",
       "      <th>0</th>\n",
       "      <td>1</td>\n",
       "      <td>0.593982</td>\n",
       "      <td>0.593982</td>\n",
       "      <td>0.593982</td>\n",
       "      <td>0.593982</td>\n",
       "      <td>0.593982</td>\n",
       "      <td>0.593982</td>\n",
       "      <td>0.593982</td>\n",
       "    </tr>\n",
       "    <tr>\n",
       "      <th>1</th>\n",
       "      <td>2</td>\n",
       "      <td>0.592261</td>\n",
       "      <td>0.592261</td>\n",
       "      <td>0.591864</td>\n",
       "      <td>0.595776</td>\n",
       "      <td>0.598089</td>\n",
       "      <td>0.591414</td>\n",
       "      <td>0.596315</td>\n",
       "    </tr>\n",
       "    <tr>\n",
       "      <th>2</th>\n",
       "      <td>3</td>\n",
       "      <td>0.604406</td>\n",
       "      <td>0.592261</td>\n",
       "      <td>0.595936</td>\n",
       "      <td>0.584727</td>\n",
       "      <td>0.609223</td>\n",
       "      <td>0.608227</td>\n",
       "      <td>0.598572</td>\n",
       "    </tr>\n",
       "    <tr>\n",
       "      <th>3</th>\n",
       "      <td>4</td>\n",
       "      <td>0.601786</td>\n",
       "      <td>0.592261</td>\n",
       "      <td>0.596753</td>\n",
       "      <td>0.585579</td>\n",
       "      <td>0.606778</td>\n",
       "      <td>0.609412</td>\n",
       "      <td>0.605563</td>\n",
       "    </tr>\n",
       "    <tr>\n",
       "      <th>4</th>\n",
       "      <td>5</td>\n",
       "      <td>0.601783</td>\n",
       "      <td>0.592261</td>\n",
       "      <td>0.599133</td>\n",
       "      <td>0.584756</td>\n",
       "      <td>0.613477</td>\n",
       "      <td>0.616459</td>\n",
       "      <td>0.605318</td>\n",
       "    </tr>\n",
       "    <tr>\n",
       "      <th>5</th>\n",
       "      <td>6</td>\n",
       "      <td>0.600588</td>\n",
       "      <td>0.592261</td>\n",
       "      <td>0.602459</td>\n",
       "      <td>0.586288</td>\n",
       "      <td>0.605748</td>\n",
       "      <td>0.610771</td>\n",
       "      <td>0.604332</td>\n",
       "    </tr>\n",
       "    <tr>\n",
       "      <th>6</th>\n",
       "      <td>7</td>\n",
       "      <td>0.600801</td>\n",
       "      <td>0.592261</td>\n",
       "      <td>0.599964</td>\n",
       "      <td>0.583080</td>\n",
       "      <td>0.606795</td>\n",
       "      <td>0.609272</td>\n",
       "      <td>0.603021</td>\n",
       "    </tr>\n",
       "    <tr>\n",
       "      <th>7</th>\n",
       "      <td>8</td>\n",
       "      <td>0.600832</td>\n",
       "      <td>0.584932</td>\n",
       "      <td>0.600647</td>\n",
       "      <td>0.583393</td>\n",
       "      <td>0.600338</td>\n",
       "      <td>0.607383</td>\n",
       "      <td>0.603071</td>\n",
       "    </tr>\n",
       "    <tr>\n",
       "      <th>8</th>\n",
       "      <td>9</td>\n",
       "      <td>0.599474</td>\n",
       "      <td>0.584932</td>\n",
       "      <td>0.597920</td>\n",
       "      <td>0.582382</td>\n",
       "      <td>0.606019</td>\n",
       "      <td>0.610273</td>\n",
       "      <td>0.602940</td>\n",
       "    </tr>\n",
       "    <tr>\n",
       "      <th>9</th>\n",
       "      <td>10</td>\n",
       "      <td>0.599536</td>\n",
       "      <td>0.584932</td>\n",
       "      <td>0.599192</td>\n",
       "      <td>0.579655</td>\n",
       "      <td>0.599782</td>\n",
       "      <td>0.606976</td>\n",
       "      <td>0.602096</td>\n",
       "    </tr>\n",
       "    <tr>\n",
       "      <th>10</th>\n",
       "      <td>11</td>\n",
       "      <td>0.592862</td>\n",
       "      <td>0.584932</td>\n",
       "      <td>0.598023</td>\n",
       "      <td>0.578384</td>\n",
       "      <td>0.600918</td>\n",
       "      <td>0.604269</td>\n",
       "      <td>0.603121</td>\n",
       "    </tr>\n",
       "    <tr>\n",
       "      <th>11</th>\n",
       "      <td>12</td>\n",
       "      <td>0.595525</td>\n",
       "      <td>0.584932</td>\n",
       "      <td>0.593275</td>\n",
       "      <td>0.574507</td>\n",
       "      <td>0.599328</td>\n",
       "      <td>0.601961</td>\n",
       "      <td>0.603279</td>\n",
       "    </tr>\n",
       "  </tbody>\n",
       "</table>\n",
       "</div>"
      ],
      "text/plain": [
       "     i  softmax_mean_preds  softmax_max_preds  logits_mean_preds  \\\n",
       "0    1            0.593982           0.593982           0.593982   \n",
       "1    2            0.592261           0.592261           0.591864   \n",
       "2    3            0.604406           0.592261           0.595936   \n",
       "3    4            0.601786           0.592261           0.596753   \n",
       "4    5            0.601783           0.592261           0.599133   \n",
       "5    6            0.600588           0.592261           0.602459   \n",
       "6    7            0.600801           0.592261           0.599964   \n",
       "7    8            0.600832           0.584932           0.600647   \n",
       "8    9            0.599474           0.584932           0.597920   \n",
       "9   10            0.599536           0.584932           0.599192   \n",
       "10  11            0.592862           0.584932           0.598023   \n",
       "11  12            0.595525           0.584932           0.593275   \n",
       "\n",
       "    logits_max_preds  preds_mode  preds_ordered_mean  softmax_to_scalar_mean  \n",
       "0           0.593982    0.593982            0.593982                0.593982  \n",
       "1           0.595776    0.598089            0.591414                0.596315  \n",
       "2           0.584727    0.609223            0.608227                0.598572  \n",
       "3           0.585579    0.606778            0.609412                0.605563  \n",
       "4           0.584756    0.613477            0.616459                0.605318  \n",
       "5           0.586288    0.605748            0.610771                0.604332  \n",
       "6           0.583080    0.606795            0.609272                0.603021  \n",
       "7           0.583393    0.600338            0.607383                0.603071  \n",
       "8           0.582382    0.606019            0.610273                0.602940  \n",
       "9           0.579655    0.599782            0.606976                0.602096  \n",
       "10          0.578384    0.600918            0.604269                0.603121  \n",
       "11          0.574507    0.599328            0.601961                0.603279  "
      ]
     },
     "execution_count": 21,
     "metadata": {},
     "output_type": "execute_result"
    }
   ],
   "source": [
    "df_scores"
   ]
  },
  {
   "cell_type": "code",
   "execution_count": 22,
   "id": "0372696f",
   "metadata": {},
   "outputs": [],
   "source": [
    "results = {\n",
    "    \"softmax_mean_preds\": np.mean(softmax, axis=0).argmax(-1),\n",
    "    \"softmax_max_preds\": np.max(softmax, axis=0).argmax(-1),\n",
    "    \"logits_mean_preds\": np.mean(logits, axis=0).argmax(-1),\n",
    "    \"logits_max_preds\": np.max(logits, axis=0).argmax(-1),\n",
    "    \"preds_mode\": stats.mode(preds, axis=0).mode[0],\n",
    "    \"preds_ordered_mean\": np.mean(preds, axis=0).round(),\n",
    "    \"softmax_to_scalar_mean\": np.mean(soft_preds, axis=0).round()\n",
    "}"
   ]
  },
  {
   "cell_type": "code",
   "execution_count": 23,
   "id": "e0be0c3b",
   "metadata": {},
   "outputs": [
    {
     "data": {
      "text/plain": [
       "{'softmax_to_scalar_mean': 0.6032792363637886,\n",
       " 'preds_ordered_mean': 0.6019612850902755,\n",
       " 'preds_mode': 0.5993277234770933,\n",
       " 'softmax_mean_preds': 0.5955246275632538,\n",
       " 'logits_mean_preds': 0.5932751647612658,\n",
       " 'softmax_max_preds': 0.584931618534673,\n",
       " 'logits_max_preds': 0.5745068159059707}"
      ]
     },
     "execution_count": 23,
     "metadata": {},
     "output_type": "execute_result"
    }
   ],
   "source": [
    "scores = {}\n",
    "for r in results:\n",
    "    scores[r] = f1_score(y_true, results[r], average=\"macro\")\n",
    "dict(sorted(scores.items(), key=lambda item: item[1], reverse=True))"
   ]
  }
 ],
 "metadata": {
  "kernelspec": {
   "display_name": "Python 3 (ipykernel)",
   "language": "python",
   "name": "python3"
  },
  "language_info": {
   "codemirror_mode": {
    "name": "ipython",
    "version": 3
   },
   "file_extension": ".py",
   "mimetype": "text/x-python",
   "name": "python",
   "nbconvert_exporter": "python",
   "pygments_lexer": "ipython3",
   "version": "3.8.13"
  }
 },
 "nbformat": 4,
 "nbformat_minor": 5
}
