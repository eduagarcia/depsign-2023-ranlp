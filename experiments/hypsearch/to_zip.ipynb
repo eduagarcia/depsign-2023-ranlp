{
 "cells": [
  {
   "cell_type": "code",
   "execution_count": 4,
   "id": "5e6bf420",
   "metadata": {},
   "outputs": [],
   "source": [
    "import os\n",
    "\n",
    "models_to_score = {\n",
    "    'output/deberta-mental-health-v3_2/trial_57': {'score': 0.5902, 'model_name': 'deberta-v3-large-mental-health'},\n",
    "    'output/deberta-large-v3-maxlen/trial_25': {'score': 0.588, 'model_name': 'deberta-v3-large'},\n",
    "    'output/roberta-mental-health-v3-maxlen/trial_22': {'score': 0.5873, 'model_name': 'roberta-mental-health'},\n",
    "    'output/roberta-mental-health-v3-maxlen/trial_14': {'score': 0.5871, 'model_name': 'roberta-mental-health'},\n",
    "    'output/deberta-mental-health-v3_2/trial_33': {'score': 0.5863, 'model_name': 'deberta-v3-large-mental-health'},\n",
    "    'output/deberta-large-v3-maxlen/trial_4': {'score': 0.5849, 'model_name': 'deberta-v3-large'},\n",
    "    'output/roberta-large-v1/trial_8': {'score': 0.5838, 'model_name': 'roberta-large'}\n",
    "}"
   ]
  },
  {
   "cell_type": "code",
   "execution_count": 10,
   "id": "8e104b7f",
   "metadata": {},
   "outputs": [],
   "source": [
    "to_remove = ['checkpoint', 'runs']"
   ]
  },
  {
   "cell_type": "code",
   "execution_count": 18,
   "id": "d2501e93",
   "metadata": {},
   "outputs": [
    {
     "name": "stdout",
     "output_type": "stream",
     "text": [
      "deberta-v3-large-mental-health_score_0_5902.zip\n",
      "deberta-v3-large_score_0_5880.zip\n",
      "roberta-mental-health_score_0_5873.zip\n",
      "roberta-mental-health_score_0_5871.zip\n",
      "deberta-v3-large-mental-health_score_0_5863.zip\n",
      "deberta-v3-large_score_0_5849.zip\n",
      "roberta-large_score_0_5838.zip\n"
     ]
    }
   ],
   "source": [
    "import zipfile\n",
    "output_path = 'finetuned_models'\n",
    "os.makedirs(output_path, exist_ok=True)\n",
    "\n",
    "for model_path in models_to_score:\n",
    "    meta = models_to_score[model_path]\n",
    "    score_str = f\"{meta['score']:.4f}\".replace('.', '_')\n",
    "    filename = f\"{meta['model_name']}_score_{score_str}.zip\"\n",
    "    output_filepath = os.path.join(output_path, filename)\n",
    "    print(filename)\n",
    "    with zipfile.ZipFile(output_filepath, 'w', compression=zipfile.ZIP_DEFLATED) as zipf:\n",
    "        for filepath in os.listdir(model_path):\n",
    "            if 'checkpoint' in filepath or 'runs' in filepath:\n",
    "                continue\n",
    "            zipf.write(os.path.join(model_path, filepath), arcname=filepath)"
   ]
  }
 ],
 "metadata": {
  "kernelspec": {
   "display_name": "Python 3 (ipykernel)",
   "language": "python",
   "name": "python3"
  },
  "language_info": {
   "codemirror_mode": {
    "name": "ipython",
    "version": 3
   },
   "file_extension": ".py",
   "mimetype": "text/x-python",
   "name": "python",
   "nbconvert_exporter": "python",
   "pygments_lexer": "ipython3",
   "version": "3.8.13"
  }
 },
 "nbformat": 4,
 "nbformat_minor": 5
}
