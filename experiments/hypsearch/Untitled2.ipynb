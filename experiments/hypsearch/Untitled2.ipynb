{
 "cells": [
  {
   "cell_type": "code",
   "execution_count": 9,
   "id": "d4a1adbe",
   "metadata": {},
   "outputs": [],
   "source": [
    "import numpy as np\n",
    "def proba_to_label_np(probas):\n",
    "    predict_levels = probas > 0.5\n",
    "    predicted_labels = np.sum(predict_levels, axis=1)\n",
    "    return predicted_labels\n",
    "\n",
    "def corn_label_from_logits_np(logits):\n",
    "    #probas = torch.sigmoid(logits)\n",
    "    probas = 1/(1 + np.exp(-logits))\n",
    "    probas = np.cumprod(probas, axis=1)\n",
    "    predict_levels = probas > 0.5\n",
    "    predicted_labels = np.sum(predict_levels, axis=1)\n",
    "    return predicted_labels"
   ]
  },
  {
   "cell_type": "code",
   "execution_count": 8,
   "id": "afadd958",
   "metadata": {},
   "outputs": [
    {
     "data": {
      "text/plain": [
       "array([0])"
      ]
     },
     "execution_count": 8,
     "metadata": {},
     "output_type": "execute_result"
    }
   ],
   "source": [
    "proba_to_label_np(np.asarray([[0.0, 0.0]]))"
   ]
  },
  {
   "cell_type": "code",
   "execution_count": 3,
   "id": "3bae0657",
   "metadata": {},
   "outputs": [],
   "source": [
    "probas = np.asarray([[0.934, 0.861, 0.323, 0.492, 0.295],\n",
    "                        [0.496, 0.485, 0.267, 0.124, 0.058],\n",
    "                        [0.985, 0.967, 0.920, 0.819, 0.506]])"
   ]
  },
  {
   "cell_type": "code",
   "execution_count": 53,
   "id": "3eb2e6a1",
   "metadata": {},
   "outputs": [
    {
     "data": {
      "text/plain": [
       "array([1, 3, 0])"
      ]
     },
     "execution_count": 53,
     "metadata": {},
     "output_type": "execute_result"
    }
   ],
   "source": [
    "logits = np.asarray([[14.152, -6.1942, 0.47710, 0.96850],\n",
    "                        [65.667, 0.303, 11.500, -4.524],\n",
    "                        [0.0, 0.5, 0.5, 0.5]])\n",
    "corn_label_from_logits_np(logits)"
   ]
  },
  {
   "cell_type": "code",
   "execution_count": 60,
   "id": "55eec03d",
   "metadata": {},
   "outputs": [
    {
     "data": {
      "text/plain": [
       "array([[ 0.4771, 14.152 ,  0.9685],\n",
       "       [11.5   , 65.667 , -4.524 ],\n",
       "       [ 0.5   ,  0.    ,  0.5   ]])"
      ]
     },
     "execution_count": 60,
     "metadata": {},
     "output_type": "execute_result"
    }
   ],
   "source": [
    "logits[:, [2,0,3]]"
   ]
  },
  {
   "cell_type": "code",
   "execution_count": 57,
   "id": "14a3d226",
   "metadata": {},
   "outputs": [
    {
     "data": {
      "text/plain": [
       "array([0.50000071, 2.9248301 , 0.37941232])"
      ]
     },
     "execution_count": 57,
     "metadata": {},
     "output_type": "execute_result"
    }
   ],
   "source": [
    "preds = corn_label_from_logits_np(logits)\n",
    "probas = 1/(1 + np.exp(-logits))\n",
    "probas = np.cumprod(probas, axis=1)\n",
    "soft_labels = 0.5 - (probas * np.eye(probas.shape[1])[preds-1]).sum(axis=1)\n",
    "soft_labels = preds + soft_labels\n",
    "soft_labels"
   ]
  },
  {
   "cell_type": "code",
   "execution_count": 47,
   "id": "b8c9d9de",
   "metadata": {},
   "outputs": [
    {
     "data": {
      "text/plain": [
       "array([[1., 0., 0., 0.],\n",
       "       [0., 0., 1., 0.]])"
      ]
     },
     "execution_count": 47,
     "metadata": {},
     "output_type": "execute_result"
    }
   ],
   "source": [
    "np.eye(probas.shape[1])[preds-1]"
   ]
  },
  {
   "cell_type": "code",
   "execution_count": 42,
   "id": "44f58ab2",
   "metadata": {},
   "outputs": [
    {
     "data": {
      "text/plain": [
       "array([1, 3])"
      ]
     },
     "execution_count": 42,
     "metadata": {},
     "output_type": "execute_result"
    }
   ],
   "source": [
    "preds"
   ]
  },
  {
   "cell_type": "code",
   "execution_count": 45,
   "id": "1df49888",
   "metadata": {},
   "outputs": [
    {
     "data": {
      "text/plain": [
       "array([[1., 0., 0., 0.],\n",
       "       [0., 0., 1., 0.]])"
      ]
     },
     "execution_count": 45,
     "metadata": {},
     "output_type": "execute_result"
    }
   ],
   "source": [
    "np.eye(probas.shape[1])[preds-1]"
   ]
  },
  {
   "cell_type": "code",
   "execution_count": 39,
   "id": "2de111ed",
   "metadata": {},
   "outputs": [
    {
     "ename": "AttributeError",
     "evalue": "'numpy.ndarray' object has no attribute 'select'",
     "output_type": "error",
     "traceback": [
      "\u001b[0;31m---------------------------------------------------------------------------\u001b[0m",
      "\u001b[0;31mAttributeError\u001b[0m                            Traceback (most recent call last)",
      "Input \u001b[0;32mIn [39]\u001b[0m, in \u001b[0;36m<cell line: 1>\u001b[0;34m()\u001b[0m\n\u001b[0;32m----> 1\u001b[0m \u001b[43mprobas\u001b[49m\u001b[38;5;241;43m.\u001b[39;49m\u001b[43mselect\u001b[49m\n",
      "\u001b[0;31mAttributeError\u001b[0m: 'numpy.ndarray' object has no attribute 'select'"
     ]
    }
   ],
   "source": [
    "probas.select"
   ]
  },
  {
   "cell_type": "code",
   "execution_count": 34,
   "id": "ef342326",
   "metadata": {},
   "outputs": [
    {
     "data": {
      "text/plain": [
       "array([0, 2])"
      ]
     },
     "execution_count": 34,
     "metadata": {},
     "output_type": "execute_result"
    }
   ],
   "source": [
    "preds-1"
   ]
  },
  {
   "cell_type": "code",
   "execution_count": 32,
   "id": "7d2a8ffa",
   "metadata": {},
   "outputs": [
    {
     "data": {
      "text/plain": [
       "array([[9.99999286e-01, 2.03707593e-03, 1.25700387e-03, 9.11102069e-04],\n",
       "       [1.00000000e+00, 5.75175727e-01, 5.75169901e-01, 6.17110746e-03]])"
      ]
     },
     "execution_count": 32,
     "metadata": {},
     "output_type": "execute_result"
    }
   ],
   "source": [
    "probas"
   ]
  },
  {
   "cell_type": "code",
   "execution_count": 25,
   "id": "03c7546e",
   "metadata": {},
   "outputs": [
    {
     "data": {
      "text/plain": [
       "array([[9.99999286e-01, 2.03707593e-03, 1.25700387e-03, 9.11102069e-04],\n",
       "       [1.00000000e+00, 5.75175727e-01, 5.75169901e-01, 6.17110746e-03]])"
      ]
     },
     "execution_count": 25,
     "metadata": {},
     "output_type": "execute_result"
    }
   ],
   "source": [
    "probas"
   ]
  }
 ],
 "metadata": {
  "kernelspec": {
   "display_name": "Python 3 (ipykernel)",
   "language": "python",
   "name": "python3"
  },
  "language_info": {
   "codemirror_mode": {
    "name": "ipython",
    "version": 3
   },
   "file_extension": ".py",
   "mimetype": "text/x-python",
   "name": "python",
   "nbconvert_exporter": "python",
   "pygments_lexer": "ipython3",
   "version": "3.8.13"
  }
 },
 "nbformat": 4,
 "nbformat_minor": 5
}
