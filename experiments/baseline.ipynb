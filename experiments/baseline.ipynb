{
 "cells": [
  {
   "cell_type": "code",
   "execution_count": 16,
   "id": "7792be16",
   "metadata": {},
   "outputs": [],
   "source": [
    "from sklearn.feature_extraction.text import TfidfVectorizer\n",
    "import pandas as pd\n",
    "train_file = '../data/train_initial.csv'\n",
    "dev_file = '../data/dev_data.csv'\n",
    "\n",
    "train_df = pd.read_csv(train_file)\n",
    "dev_df = pd.read_csv(dev_file)"
   ]
  },
  {
   "cell_type": "code",
   "execution_count": 18,
   "id": "b844b199",
   "metadata": {},
   "outputs": [],
   "source": [
    "label2id = {'not depression': 0, 'moderate': 1, 'severe': 2}\n",
    "train_df['label'] = train_df['label'].map(label2id).astype(int)\n",
    "dev_df['label'] = dev_df['label'].map(label2id).astype(int)"
   ]
  },
  {
   "cell_type": "code",
   "execution_count": 22,
   "id": "377c1697",
   "metadata": {},
   "outputs": [],
   "source": [
    "X = list(train_df['text data'].values)\n",
    "X_val = list(dev_df['text data'].values)\n",
    "y = train_df['label'].values\n",
    "y_val = dev_df['label'].values\n",
    "vectorizer = TfidfVectorizer()\n",
    "X = vectorizer.fit_transform(X)\n",
    "X_val = vectorizer.transform(X_val)"
   ]
  },
  {
   "cell_type": "code",
   "execution_count": 30,
   "id": "9f537603",
   "metadata": {},
   "outputs": [],
   "source": [
    "from sklearn.linear_model import LogisticRegression\n",
    "lr = LogisticRegression(max_iter=1000)\n",
    "lr.fit(X, y)\n",
    "\n",
    "y_pred = lr.predict(X_val)"
   ]
  },
  {
   "cell_type": "code",
   "execution_count": 40,
   "id": "42d9f415",
   "metadata": {},
   "outputs": [
    {
     "data": {
      "text/plain": [
       "0.49110070729749483"
      ]
     },
     "execution_count": 40,
     "metadata": {},
     "output_type": "execute_result"
    }
   ],
   "source": [
    "from sklearn.metrics import f1_score\n",
    "f1_score(y_val, y_pred, average='macro')"
   ]
  },
  {
   "cell_type": "code",
   "execution_count": 39,
   "id": "75e3a70a",
   "metadata": {},
   "outputs": [
    {
     "data": {
      "text/plain": [
       "(array([0, 1, 2]), array([1037, 2129,   79]))"
      ]
     },
     "execution_count": 39,
     "metadata": {},
     "output_type": "execute_result"
    }
   ],
   "source": [
    "import numpy as np\n",
    "np.unique(y_pred, return_counts=True)"
   ]
  }
 ],
 "metadata": {
  "kernelspec": {
   "display_name": "Python 3 (ipykernel)",
   "language": "python",
   "name": "python3"
  },
  "language_info": {
   "codemirror_mode": {
    "name": "ipython",
    "version": 3
   },
   "file_extension": ".py",
   "mimetype": "text/x-python",
   "name": "python",
   "nbconvert_exporter": "python",
   "pygments_lexer": "ipython3",
   "version": "3.8.13"
  }
 },
 "nbformat": 4,
 "nbformat_minor": 5
}
